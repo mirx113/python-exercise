{
 "cells": [
  {
   "cell_type": "markdown",
   "metadata": {},
   "source": [
    "<font color=\"red\"> <h1> Korrektur </h1> </font>\n",
    "\n",
    "* Übung 1 : $\\checkmark$\n",
    "* Übung 2 : $\\checkmark$\n",
    "* Übung 3 : $\\checkmark$\n",
    "\n",
    "**Bonus: 0.1**"
   ]
  },
  {
   "cell_type": "markdown",
   "metadata": {},
   "source": [
    "# Einführung in die Programmierung\n",
    "## Praktishe Arbeit 3\n",
    "\n",
    "\n",
    "## Übung 0\n",
    "\n",
    "Klicken Sie auf \"PA03\" oben (neben dem Jupyter Logo) und benennen Sie das Notebook in Form von \"PA03 Ihre Name\".\n",
    "\n",
    "\n",
    "## Übung 1 : Das grösste Wert einer Liste\n",
    "\n",
    "Schreiben Sie eine Funktion die das grösste Wert einer Liste berechnet (das ist ähnlisch ähnlich als die Funktion im Kurs).\n",
    "\n",
    "**Testen Sie diese Funktion auf die Liste definiert unten**.\n",
    "\n"
   ]
  },
  {
   "cell_type": "markdown",
   "metadata": {},
   "source": [
    "## Antwort 1\n"
   ]
  },
  {
   "cell_type": "code",
   "execution_count": 1,
   "metadata": {},
   "outputs": [
    {
     "data": {
      "text/plain": [
       "6"
      ]
     },
     "execution_count": 1,
     "metadata": {},
     "output_type": "execute_result"
    }
   ],
   "source": [
    "Liste = [5.5, 3.25, 4, 6, 4.75, 5, 4.25]\n",
    "\n",
    "def groesste_wert(Liste):\n",
    "    \"\"\"Berechnung das groesste Wert in der Liste\"\"\"\n",
    "    groesste = Liste[0]\n",
    "    for x in Liste:\n",
    "        if x > groesste:\n",
    "            groesste = x\n",
    "    return groesste\n",
    "    \n",
    "groesste_wert(Liste)"
   ]
  },
  {
   "cell_type": "markdown",
   "metadata": {},
   "source": [
    "## Übung 2\n",
    "\n",
    "Berechnen sie viefiele Wörter es gibt in der Variable Zen). Dafür, können Sie (zum Beispiel) die Methode .split(\" \") und die Function len() kombinieren. "
   ]
  },
  {
   "cell_type": "code",
   "execution_count": 2,
   "metadata": {},
   "outputs": [],
   "source": [
    "Zen = \"\"\"The Zen of Python, by Tim Peters\n",
    "Beautiful is better than ugly.\n",
    "Explicit is better than implicit.\n",
    "Simple is better than complex.\n",
    "Complex is better than complicated.\n",
    "Flat is better than nested.\n",
    "Sparse is better than dense.\n",
    "Readability counts.\n",
    "Special cases aren't special enough to break the rules.\n",
    "Although practicality beats purity.\n",
    "Errors should never pass silently.\n",
    "Unless explicitly silenced.\n",
    "In the face of ambiguity, refuse the temptation to guess.\n",
    "There should be one-- and preferably only one --obvious way to do it.\n",
    "Although that way may not be obvious at first unless you're Dutch.\n",
    "Now is better than never.\n",
    "Although never is often better than *right* now.\n",
    "If the implementation is hard to explain, it's a bad idea.\n",
    "If the implementation is easy to explain, it may be a good idea.\n",
    "Namespaces are one honking great idea -- let's do more of those!\"\"\"\n",
    "\n"
   ]
  },
  {
   "cell_type": "code",
   "execution_count": 3,
   "metadata": {
    "scrolled": true
   },
   "outputs": [
    {
     "name": "stdout",
     "output_type": "stream",
     "text": [
      "['The', 'Zen', 'of', 'Python,', 'by', 'Tim', 'Peters\\nBeautiful', 'is', 'better', 'than', 'ugly.\\nExplicit', 'is', 'better', 'than', 'implicit.\\nSimple', 'is', 'better', 'than', 'complex.\\nComplex', 'is', 'better', 'than', 'complicated.\\nFlat', 'is', 'better', 'than', 'nested.\\nSparse', 'is', 'better', 'than', 'dense.\\nReadability', 'counts.\\nSpecial', 'cases', \"aren't\", 'special', 'enough', 'to', 'break', 'the', 'rules.\\nAlthough', 'practicality', 'beats', 'purity.\\nErrors', 'should', 'never', 'pass', 'silently.\\nUnless', 'explicitly', 'silenced.\\nIn', 'the', 'face', 'of', 'ambiguity,', 'refuse', 'the', 'temptation', 'to', 'guess.\\nThere', 'should', 'be', 'one--', 'and', 'preferably', 'only', 'one', '--obvious', 'way', 'to', 'do', 'it.\\nAlthough', 'that', 'way', 'may', 'not', 'be', 'obvious', 'at', 'first', 'unless', \"you're\", 'Dutch.\\nNow', 'is', 'better', 'than', 'never.\\nAlthough', 'never', 'is', 'often', 'better', 'than', '*right*', 'now.\\nIf', 'the', 'implementation', 'is', 'hard', 'to', 'explain,', \"it's\", 'a', 'bad', 'idea.\\nIf', 'the', 'implementation', 'is', 'easy', 'to', 'explain,', 'it', 'may', 'be', 'a', 'good', 'idea.\\nNamespaces', 'are', 'one', 'honking', 'great', 'idea', '--', \"let's\", 'do', 'more', 'of', 'those!']\n"
     ]
    }
   ],
   "source": [
    "print (Zen.split(' '))\n",
    "Liste = (Zen.split(' '))\n"
   ]
  },
  {
   "cell_type": "code",
   "execution_count": 4,
   "metadata": {},
   "outputs": [],
   "source": [
    "WoerterAnzahl = len(Liste)"
   ]
  },
  {
   "cell_type": "markdown",
   "metadata": {},
   "source": [
    "## Antwort 2"
   ]
  },
  {
   "cell_type": "code",
   "execution_count": 5,
   "metadata": {},
   "outputs": [],
   "source": [
    "WoerteAnzahl = 125"
   ]
  },
  {
   "cell_type": "markdown",
   "metadata": {},
   "source": [
    "## Übung 3 : Buchkatalog\n",
    " \n",
    "### Frage 3.0\n",
    "\n",
    "Katalogisieren die folgenden Bücher im Python Wörterbücher:\n",
    "* [Python programmieren lernen für Dummies](https://www.amazon.de/Python-programmieren-lernen-f%C3%BCr-Dummies/dp/3527711481)\n",
    "* [Python Cookbook](https://www.amazon.de/Python-Cookbook-David-Beazley/dp/1449340377/)\n",
    "* [Python - kurz & gut](https://www.amazon.de/Python-kurz-gut-Mark-Lutz/dp/395561770X/)\n",
    "\n",
    "Verwenden Sie systematisch dei folgende Felder:\n",
    "* \"Titel\", Typ = Text (String)\n",
    "* \"Authoren\", Typ = Liste (jedes Author ist ein Text)\n",
    "* \"Jahr\" (also Publikationjahr), Typ = Ganze Zahl\n",
    "* \"Verlag\", Typ = Text\n",
    "\n",
    "### Frage 3.1\n",
    "- Extrahieren Sie Titeln aus der Samlung in einer Liste, nennen sie diese Variable \"Titeln\".\n",
    "- Extrahieren Sie Authoren aus der Samlung in einer Liste \"Authoren\" (also es wirt eine Liste von Listen), nennen sie diese Variable \"Authoren\".\n",
    "\n",
    "### Frage 3.2\n",
    "\n",
    "Berechen Sie, **wie viele Zeichen** es gibt **im Durchschnitt** im **Titeln** (auf der ganze Samlung).\n",
    "\n",
    "### Frage 3.3\n",
    "\n",
    "Berechen Sie, **wie viele Wörter** es gibt **im Durchschnitt** im **Titeln** (auf der ganze Samlung).\n",
    "\n",
    "### Frage 3.4\n",
    "\n",
    "Berechen Sie, **wie viele Authoren** es gibt **im Durchschnitt** pro Buch (auf der ganze Samlung).\n",
    "\n",
    "### Frage 3.5\n",
    "\n",
    "Finden Sie durch ein Skript, welches Buch der Samlung wurde am letztem veröffentlicht. Sie können (zum Beispiel) die Funktion die Sie in Übung 1 geschrieben haben verwenden, oder eine andere Lösung finden. \n"
   ]
  },
  {
   "cell_type": "markdown",
   "metadata": {},
   "source": [
    "## Antwort 3\n",
    "\n",
    "(Ihre Antworten zu Fragen 3.0 bis 3.5 hier schreiben, in Code und Markdown Zellen)"
   ]
  },
  {
   "cell_type": "code",
   "execution_count": 6,
   "metadata": {},
   "outputs": [
    {
     "name": "stdout",
     "output_type": "stream",
     "text": [
      "Titeln: ['Python programmieren lernen für Dummies', 'Python Cookbook', 'Python - kurz & gut']\n"
     ]
    }
   ],
   "source": [
    "# Bücher hier Katalogieren: diese Wörterbücher\n",
    "Buch1 = {'Titel': 'Python programmieren lernen für Dummies', \n",
    "        'Authoren' : ['John Paul Mueller', 'Sandra Geisler'],\n",
    "        'Jahr' : 2015,\n",
    "        'Verlag' : 'Wiley-VCH'}\n",
    "Buch2 = {'Titel': 'Python Cookbook',\n",
    "        'Authoren' : ['David Beazney', 'Brian K. Jones'],\n",
    "        'Jahr' : 2013,\n",
    "        'Verlag' : 'O\\'Reilly and Associates'}\n",
    "Buch3 = {'Titel': 'Python - kurz & gut',\n",
    "        'Authoren' : ['Mark Lutz'],\n",
    "        'Jahr' : 2014,\n",
    "        'Verlag' : 'O\\'Reilly Verlag GMBH & Co. KG'}\n",
    "\n",
    "# Bücher in der Samlung enfügen\n",
    "Sammlung = [Buch1, Buch2, Buch3]\n",
    "\n",
    "# Berchnungen ....\n",
    "Titeln = []\n",
    "for Buch in Sammlung:\n",
    "    Titeln.append( Buch['Titel'] )\n",
    "\n",
    "# Antwort 3.1/a\n",
    "print('Titeln:', Titeln)"
   ]
  },
  {
   "cell_type": "code",
   "execution_count": 7,
   "metadata": {},
   "outputs": [
    {
     "name": "stdout",
     "output_type": "stream",
     "text": [
      "Authoren: [['John Paul Mueller', 'Sandra Geisler'], ['David Beazney', 'Brian K. Jones'], ['Mark Lutz']]\n"
     ]
    }
   ],
   "source": [
    "# Antwort 3.1/b\n",
    "\n",
    "Authoren = []\n",
    "for Buch in Sammlung:\n",
    "    Authoren.append( Buch['Authoren'])\n",
    "print('Authoren:', Authoren)"
   ]
  },
  {
   "cell_type": "code",
   "execution_count": 8,
   "metadata": {},
   "outputs": [
    {
     "data": {
      "text/plain": [
       "24.333333333333332"
      ]
     },
     "execution_count": 8,
     "metadata": {},
     "output_type": "execute_result"
    }
   ],
   "source": [
    "# Antwort 3.2\n",
    "\n",
    "def durchschnitt(Liste):\n",
    "    \"\"\"Berechnung des Durchnitts der Liste.\"\"\"\n",
    "    Summe = 0.0\n",
    "    for x in Liste:\n",
    "        Summe = Summe + x\n",
    "    return Summe / len(Liste)\n",
    "\n",
    "titeln_laenge = []\n",
    "for Titel in Titeln:\n",
    "    titeln_laenge.append( len(Titel) )\n",
    "\n",
    "durchschnitt(titeln_laenge)"
   ]
  },
  {
   "cell_type": "code",
   "execution_count": 9,
   "metadata": {},
   "outputs": [],
   "source": [
    "# Antwort 3.3\n",
    "titeln_woerter = []\n",
    "for Titel in Titeln:\n",
    "    titeln_woerter.append( len( Titel.split(' ') ) )"
   ]
  },
  {
   "cell_type": "code",
   "execution_count": 10,
   "metadata": {},
   "outputs": [
    {
     "data": {
      "text/plain": [
       "4.0"
      ]
     },
     "execution_count": 10,
     "metadata": {},
     "output_type": "execute_result"
    }
   ],
   "source": [
    "durchschnitt(titeln_woerter)"
   ]
  },
  {
   "cell_type": "code",
   "execution_count": 11,
   "metadata": {},
   "outputs": [
    {
     "data": {
      "text/plain": [
       "1.6666666666666667"
      ]
     },
     "execution_count": 11,
     "metadata": {},
     "output_type": "execute_result"
    }
   ],
   "source": [
    "#Antwort 3.4\n",
    "\n",
    "n_authoren = []\n",
    "for b in Sammlung:\n",
    "    n_authoren.append( len (b ['Authoren']))\n",
    "\n",
    "durchschnitt(n_authoren)"
   ]
  },
  {
   "cell_type": "code",
   "execution_count": 12,
   "metadata": {},
   "outputs": [
    {
     "data": {
      "text/plain": [
       "2015"
      ]
     },
     "execution_count": 12,
     "metadata": {},
     "output_type": "execute_result"
    }
   ],
   "source": [
    "#Antwort 3.5\n",
    "Jahr = []\n",
    "for Buch in Sammlung:\n",
    "    Jahr.append( Buch['Jahr'] )\n",
    "\n",
    "\n",
    "def groesste_wert(Jahr):\n",
    "    \"\"\"Berechnung das groesste Wert in der Liste\"\"\"\n",
    "    groesste = Jahr[0]\n",
    "    for x in Jahr:\n",
    "        if x > groesste:\n",
    "            groesste = x\n",
    "    return groesste\n",
    "    \n",
    "groesste_wert(Jahr)"
   ]
  },
  {
   "cell_type": "code",
   "execution_count": null,
   "metadata": {},
   "outputs": [],
   "source": []
  }
 ],
 "metadata": {
  "kernelspec": {
   "display_name": "Python 3",
   "language": "python",
   "name": "python3"
  },
  "language_info": {
   "codemirror_mode": {
    "name": "ipython",
    "version": 3
   },
   "file_extension": ".py",
   "mimetype": "text/x-python",
   "name": "python",
   "nbconvert_exporter": "python",
   "pygments_lexer": "ipython3",
   "version": "3.6.6"
  },
  "widgets": {
   "state": {},
   "version": "1.0.0"
  }
 },
 "nbformat": 4,
 "nbformat_minor": 1
}
