{
 "cells": [
  {
   "cell_type": "markdown",
   "metadata": {},
   "source": [
    "<font color=\"red\"> <h1> Korrektur </h1> </font>\n",
    "\n",
    "* Übung 1 : $\\checkmark$\n",
    "* Übung 2 : $\\checkmark$\n",
    "* Übung 3 : $\\checkmark$\n",
    "* Übung 4 : $\\checkmark$\n",
    "* Übung 5 : $\\checkmark$\n",
    "\n",
    "\n",
    "**Bonus: 0.1**"
   ]
  },
  {
   "cell_type": "markdown",
   "metadata": {},
   "source": [
    "# Einführung in die Programmierung\n",
    "## Praktische Arbeit 4\n",
    "\n",
    "\n",
    "## Übung 0\n",
    "\n",
    "Klicken Sie auf \"PA04\" oben (neben dem Jupyter Logo) und benennen Sie das Notebook in Form von \"PA04 Ihre Name\".\n",
    "\n",
    "\n",
    "## Übung 1 :  Schleifen\n",
    "\n",
    "#### Frage 1.0\n",
    "\n",
    "Als Freiwilliger bei colorrun.ch, müssen Sie die Liste der ersten Ankünfte formatieren wie folgt:\n",
    "\n",
    "    1 - Melanie Dupont\n",
    "    2 - John Smith\n",
    "    3 - Tim Dupré\n",
    "    usw.\n",
    "\n",
    "Die Liste ColorRunAnkuenfte unten enthält die Namen der Teilnehmer in der Reihenfolge ihres Eintreffens. Schreiben sie eine Schleife um den rank jedes Teilnemer zu rechnen und wie im Beispiel höher drucken.\n",
    "\n",
    "#### Frage 1.1\n",
    "\n",
    "Schreiben Sie drei verschachtelten Schleifen die alle möglische Kombinationen von Sujekten / Verben / Objekten (die unter definiert sind) in den Notebook anzeigen (mit print). \n",
    "\n",
    "\n"
   ]
  },
  {
   "cell_type": "markdown",
   "metadata": {},
   "source": [
    "## Antwort 1\n"
   ]
  },
  {
   "cell_type": "code",
   "execution_count": 38,
   "metadata": {},
   "outputs": [
    {
     "name": "stdout",
     "output_type": "stream",
     "text": [
      "1 Melanie Dupont\n",
      "2 John Smith\n",
      "3 Tim Dupré\n",
      "4 Hugo Bacard\n",
      "5 Luc Belair\n",
      "6 Lorenzo Fantini\n",
      "7 Julien Leplet\n",
      "8 Antoine Eriksson\n",
      "9 Christe Aaron\n",
      "10 Luisa Collella\n",
      "11 Charlotte Brasca\n"
     ]
    }
   ],
   "source": [
    "# Frage 1.0\n",
    "ColorRunAnkuenfte = ['Melanie Dupont', 'John Smith', 'Tim Dupré', 'Hugo Bacard', 'Luc Belair', 'Lorenzo Fantini', 'Julien Leplet', 'Antoine Eriksson', 'Christe Aaron', 'Luisa Collella', 'Charlotte Brasca']\n",
    "\n",
    "# Das Code hier schreiben\n",
    "a = 0\n",
    "for Subjekt in ColorRunAnkuenfte:\n",
    "    a = a + 1\n",
    "    print(a, Subjekt)"
   ]
  },
  {
   "cell_type": "code",
   "execution_count": 39,
   "metadata": {},
   "outputs": [
    {
     "name": "stdout",
     "output_type": "stream",
     "text": [
      "Der Mann isst die Wurst .\n",
      "Der Mann isst Fisch .\n",
      "Der Mann isst die Banane .\n",
      "Der Mann isst nichts .\n",
      "Der Mann isst die Katze .\n",
      "Der Mann kauft die Wurst .\n",
      "Der Mann kauft Fisch .\n",
      "Der Mann kauft die Banane .\n",
      "Der Mann kauft nichts .\n",
      "Der Mann kauft die Katze .\n",
      "Der Mann zertrampelt die Wurst .\n",
      "Der Mann zertrampelt Fisch .\n",
      "Der Mann zertrampelt die Banane .\n",
      "Der Mann zertrampelt nichts .\n",
      "Der Mann zertrampelt die Katze .\n",
      "Der Mann magt die Wurst .\n",
      "Der Mann magt Fisch .\n",
      "Der Mann magt die Banane .\n",
      "Der Mann magt nichts .\n",
      "Der Mann magt die Katze .\n",
      "Die Frau isst die Wurst .\n",
      "Die Frau isst Fisch .\n",
      "Die Frau isst die Banane .\n",
      "Die Frau isst nichts .\n",
      "Die Frau isst die Katze .\n",
      "Die Frau kauft die Wurst .\n",
      "Die Frau kauft Fisch .\n",
      "Die Frau kauft die Banane .\n",
      "Die Frau kauft nichts .\n",
      "Die Frau kauft die Katze .\n",
      "Die Frau zertrampelt die Wurst .\n",
      "Die Frau zertrampelt Fisch .\n",
      "Die Frau zertrampelt die Banane .\n",
      "Die Frau zertrampelt nichts .\n",
      "Die Frau zertrampelt die Katze .\n",
      "Die Frau magt die Wurst .\n",
      "Die Frau magt Fisch .\n",
      "Die Frau magt die Banane .\n",
      "Die Frau magt nichts .\n",
      "Die Frau magt die Katze .\n",
      "Nathalie isst die Wurst .\n",
      "Nathalie isst Fisch .\n",
      "Nathalie isst die Banane .\n",
      "Nathalie isst nichts .\n",
      "Nathalie isst die Katze .\n",
      "Nathalie kauft die Wurst .\n",
      "Nathalie kauft Fisch .\n",
      "Nathalie kauft die Banane .\n",
      "Nathalie kauft nichts .\n",
      "Nathalie kauft die Katze .\n",
      "Nathalie zertrampelt die Wurst .\n",
      "Nathalie zertrampelt Fisch .\n",
      "Nathalie zertrampelt die Banane .\n",
      "Nathalie zertrampelt nichts .\n",
      "Nathalie zertrampelt die Katze .\n",
      "Nathalie magt die Wurst .\n",
      "Nathalie magt Fisch .\n",
      "Nathalie magt die Banane .\n",
      "Nathalie magt nichts .\n",
      "Nathalie magt die Katze .\n",
      "Der Hund isst die Wurst .\n",
      "Der Hund isst Fisch .\n",
      "Der Hund isst die Banane .\n",
      "Der Hund isst nichts .\n",
      "Der Hund isst die Katze .\n",
      "Der Hund kauft die Wurst .\n",
      "Der Hund kauft Fisch .\n",
      "Der Hund kauft die Banane .\n",
      "Der Hund kauft nichts .\n",
      "Der Hund kauft die Katze .\n",
      "Der Hund zertrampelt die Wurst .\n",
      "Der Hund zertrampelt Fisch .\n",
      "Der Hund zertrampelt die Banane .\n",
      "Der Hund zertrampelt nichts .\n",
      "Der Hund zertrampelt die Katze .\n",
      "Der Hund magt die Wurst .\n",
      "Der Hund magt Fisch .\n",
      "Der Hund magt die Banane .\n",
      "Der Hund magt nichts .\n",
      "Der Hund magt die Katze .\n"
     ]
    }
   ],
   "source": [
    "# Frage 1.1\n",
    "\n",
    "Subjekten = ['Der Mann', 'Die Frau', 'Nathalie', 'Der Hund']\n",
    "Verben    = ['isst', 'kauft', 'zertrampelt', 'magt']\n",
    "Objekten  = ['die Wurst', 'Fisch', 'die Banane', 'nichts', 'die Katze']\n",
    "\n",
    "for Subjekt in Subjekten:\n",
    "    for Verb in Verben:\n",
    "        for Objekt in Objekten:\n",
    "            print(Subjekt, Verb, Objekt, '.') "
   ]
  },
  {
   "cell_type": "markdown",
   "metadata": {},
   "source": [
    "## Übung 2 : Mathematische Funktion\n",
    "\n",
    "#### Frage 2.0\n",
    "Schreiben Sie eine Funktion 'y', mit ein Paramter 'x' die $ y = 3x^2 - 5$ rechet.\n",
    "\n",
    "#### Frage 2.1\n",
    "Für jedes Element x in der Liste X unten, berechnen und drucken Sie y(x)."
   ]
  },
  {
   "cell_type": "markdown",
   "metadata": {},
   "source": [
    "## Antwort 2"
   ]
  },
  {
   "cell_type": "code",
   "execution_count": 40,
   "metadata": {},
   "outputs": [
    {
     "name": "stdout",
     "output_type": "stream",
     "text": [
      "Wenn x 0 ist dann y wird -5\n",
      "Wenn x 1 ist dann y wird -2\n",
      "Wenn x 2 ist dann y wird 7\n",
      "Wenn x 3 ist dann y wird 22\n",
      "Wenn x 4 ist dann y wird 43\n",
      "Wenn x 5 ist dann y wird 70\n",
      "Wenn x 6 ist dann y wird 103\n",
      "Wenn x 7 ist dann y wird 142\n",
      "Wenn x 8 ist dann y wird 187\n",
      "Wenn x 9 ist dann y wird 238\n",
      "Wenn x 10 ist dann y wird 295\n",
      "Wenn x 11 ist dann y wird 358\n",
      "Wenn x 12 ist dann y wird 427\n"
     ]
    }
   ],
   "source": [
    "# Frage 2.0: hier die Funktion 'y' definieren\n",
    "def Gerade(x):\n",
    "    y = x*x*3 - 5\n",
    "    return y\n",
    "# Frage 2.1\n",
    "\n",
    "X = [0,1,2,3,4,5,6,7,8,9,10,11,12]\n",
    "\n",
    "for x in X:\n",
    "    print(\"Wenn x\", x, \"ist dann y wird\", x*x*3 - 5)\n",
    "    \n",
    "# hier das Code dass alle Werte von y(x) berechnet schreiben"
   ]
  },
  {
   "cell_type": "markdown",
   "metadata": {},
   "source": [
    "## Übung 3\n",
    "\n",
    "### Frage 3.0\n",
    "\n",
    "Sie sind verantwortlich für die Sammlung \"Entdeckungen\" der aargauer Stadtbibliothek. Die Regale sind voll und Sie haben ein Budget erhalten um die Bestände zu aktualisieren. Sie brauchen Platz und werden die wenigste relevante Bücher zum Untergeschoss transferieren. Die Management-Software der Bibliothek erlaubt Ihnen eine Liste von Ausleihe-Anzahl jedes Buches dieser Sammlung in den letzten fünf Jahren zu exportieren (diese Liste finden Sie unten: 'SammlungStatistik').\n",
    "\n",
    "Schreiben Sie einen Python-Skript das die **Barcoden** der Bücher die wenieger als 5 mal in den 5 letzten Jahren ausliehen wurden listet.\n",
    "\n",
    "### Frage 3.1\n",
    "\n",
    "Leider ist die Liste in Frage 3.0 nicht lang genug: sie brauchen mehr Platz! Schereiben Sie einen neuen Skript (in eine andere Zelle) das alle Barcoden listet für Bücher die mindestens eines dieser zwei Kriterien treffen:\n",
    "* entweder wenieger als 2 mal in den 5 letzten Jahren ausliehen wurden,\n",
    "* bevor 2011 veröffentlich wurden."
   ]
  },
  {
   "cell_type": "markdown",
   "metadata": {},
   "source": [
    "## Antwort 3"
   ]
  },
  {
   "cell_type": "code",
   "execution_count": 41,
   "metadata": {},
   "outputs": [
    {
     "name": "stdout",
     "output_type": "stream",
     "text": [
      "Buecher_a_desherber: ['000123', '000120', '000121', '000192', '000193', '000194', '000164', '000165', '000166', '000167', '000168']\n"
     ]
    }
   ],
   "source": [
    "# Frage 3.0\n",
    "SammlungStatistik = [ {'Barcode':'000123', 'Jahr':2009, 'Ausleihen':4},\n",
    "                      {'Barcode':'000120', 'Jahr':2013, 'Ausleihen':0},\n",
    "                      {'Barcode':'000121', 'Jahr':2013, 'Ausleihen':1},\n",
    "                      {'Barcode':'000122', 'Jahr':2013, 'Ausleihen':6},\n",
    "                      {'Barcode':'000130', 'Jahr':2013, 'Ausleihen':9},\n",
    "                      {'Barcode':'000140', 'Jahr':2013, 'Ausleihen':34},\n",
    "                      {'Barcode':'000150', 'Jahr':2000, 'Ausleihen':7},\n",
    "                      {'Barcode':'000160', 'Jahr':2005, 'Ausleihen':8},\n",
    "                      {'Barcode':'000170', 'Jahr':2003, 'Ausleihen':9},\n",
    "                      {'Barcode':'000180', 'Jahr':2004, 'Ausleihen':7},\n",
    "                      {'Barcode':'000190', 'Jahr':2010, 'Ausleihen':8},\n",
    "                      {'Barcode':'000191', 'Jahr':2011, 'Ausleihen':9},\n",
    "                      {'Barcode':'000192', 'Jahr':2013, 'Ausleihen':0},\n",
    "                      {'Barcode':'000193', 'Jahr':2013, 'Ausleihen':3},\n",
    "                      {'Barcode':'000194', 'Jahr':2013, 'Ausleihen':4},\n",
    "                      {'Barcode':'000195', 'Jahr':2013, 'Ausleihen':8},\n",
    "                      {'Barcode':'000196', 'Jahr':2013, 'Ausleihen':9},\n",
    "                      {'Barcode':'000197', 'Jahr':2013, 'Ausleihen':7},\n",
    "                      {'Barcode':'000198', 'Jahr':2013, 'Ausleihen':8},\n",
    "                      {'Barcode':'000199', 'Jahr':2013, 'Ausleihen':9},\n",
    "                      {'Barcode':'000160', 'Jahr':2013, 'Ausleihen':6},\n",
    "                      {'Barcode':'000161', 'Jahr':2013, 'Ausleihen':9},\n",
    "                      {'Barcode':'000162', 'Jahr':2013, 'Ausleihen':8},\n",
    "                      {'Barcode':'000163', 'Jahr':2013, 'Ausleihen':7},\n",
    "                      {'Barcode':'000164', 'Jahr':2013, 'Ausleihen':0},\n",
    "                      {'Barcode':'000165', 'Jahr':2013, 'Ausleihen':3},\n",
    "                      {'Barcode':'000166', 'Jahr':2013, 'Ausleihen':2},\n",
    "                      {'Barcode':'000167', 'Jahr':2013, 'Ausleihen':1},\n",
    "                      {'Barcode':'000168', 'Jahr':2013, 'Ausleihen':0},\n",
    "                      {'Barcode':'000169', 'Jahr':2013, 'Ausleihen':5},\n",
    "                      {'Barcode':'000170', 'Jahr':2013, 'Ausleihen':6},\n",
    "                      {'Barcode':'000171', 'Jahr':2013, 'Ausleihen':13},\n",
    "                      {'Barcode':'000172', 'Jahr':2013, 'Ausleihen':100} ]\n",
    "\n",
    "\n",
    "    \n",
    "Ausleihen = []\n",
    "for Buch in SammlungStatistik:\n",
    "    Ausleihen.append( Buch['Ausleihen'] )\n",
    "   \n",
    "    \n",
    "Barcode = []\n",
    "for Buch in SammlungStatistik:\n",
    "    Barcode.append(  Buch['Barcode'] )\n",
    "    \n",
    "buecher_a_des = []\n",
    "for Buch in SammlungStatistik:\n",
    "    if Buch['Ausleihen'] < 5:\n",
    "        buecher_a_des.append(Buch['Barcode'])\n",
    "print('Buecher_a_desherber:' , buecher_a_des)\n",
    "\n"
   ]
  },
  {
   "cell_type": "code",
   "execution_count": 42,
   "metadata": {},
   "outputs": [
    {
     "name": "stdout",
     "output_type": "stream",
     "text": [
      "Buecher_a_desherber: ['000123', '000120', '000121', '000150', '000160', '000170', '000180', '000190', '000192', '000164', '000167', '000168']\n"
     ]
    }
   ],
   "source": [
    "# Frage 3.1\n",
    "Jahr = []\n",
    "for Buch in SammlungStatistik:\n",
    "    Jahr.append(Buch['Jahr'])\n",
    "    \n",
    "buecher_a_des = []\n",
    "for Buch in SammlungStatistik:\n",
    "    if Buch['Ausleihen'] < 2:\n",
    "        buecher_a_des.append(Buch['Barcode'])\n",
    "    elif Buch['Jahr'] < 2011:\n",
    "        buecher_a_des.append(Buch['Barcode'])\n",
    "\n",
    "print('Buecher_a_desherber:' , buecher_a_des) \n",
    "    \n",
    "\n"
   ]
  },
  {
   "cell_type": "markdown",
   "metadata": {},
   "source": [
    "## Übung 4 : Schuhgeschäft Inventar\n",
    "\n",
    "Sie sind manager eines Schuhgeschäfts. Sie werden die neuen Schuhkollektionen für diesen Winter erhalten. Aber das Lager ist zu voll, und Sie brauchen Platz zu schaffen.\n",
    "\n",
    "Sie entscheiden, die kleinere wie auch die größere Schuhe loszuwerden, weil diese Modelle weniger Kunden interessieren.\n",
    "\n",
    "In der Praxis schreiben Sie ein Python-Skript, der die Barcoden listet der Schuhboxen die zu beseitigen sind.\n",
    "* Für Männer : kleiner als 40 oder grösser als 45 \n",
    "* Für Frauen : kleiner als 36 oder grösser als 41"
   ]
  },
  {
   "cell_type": "markdown",
   "metadata": {},
   "source": [
    "## Antwort 4"
   ]
  },
  {
   "cell_type": "code",
   "execution_count": 43,
   "metadata": {},
   "outputs": [
    {
     "name": "stdout",
     "output_type": "stream",
     "text": [
      "Schuhe_a_desherber: ['0000123', '0000132', '0000133', '0000134', '0000135', '0000136', '1000132', '1000133', '1000134', '1000135', '1000136', '0000128', '0000129', '1000128', '1000129', '0000141', '0000142', '1000141', '1000142', '0000143', '0000144', '0000145', '0000146', '1000143', '1000144', '1000145', '1000146']\n"
     ]
    }
   ],
   "source": [
    "BoxInventar = [   {'Barcode':'0000123', 'Modell':'Skech Z', 'Geschlecht':'Mann', 'Grösse':36},\n",
    "                  {'Barcode':'0000124', 'Modell':'Nike AZ', 'Geschlecht':'Mann', 'Grösse':40},\n",
    "                  {'Barcode':'0000125', 'Modell':'Asics 5', 'Geschlecht':'Mann', 'Grösse':40},\n",
    "                  {'Barcode':'0000126', 'Modell':'Nike AZ', 'Geschlecht':'Mann', 'Grösse':42},\n",
    "                  {'Barcode':'0000127', 'Modell':'Nike AZ', 'Geschlecht':'Mann', 'Grösse':42},\n",
    "                  {'Barcode':'0000128', 'Modell':'Asics 5', 'Geschlecht':'Mann', 'Grösse':46},\n",
    "                  {'Barcode':'0000129', 'Modell':'Nike AZ', 'Geschlecht':'Mann', 'Grösse':46},\n",
    "                  {'Barcode':'0000130', 'Modell':'Skech Z', 'Geschlecht':'Mann', 'Grösse':43},\n",
    "                  {'Barcode':'0000131', 'Modell':'Nike AZ', 'Geschlecht':'Mann', 'Grösse':45},\n",
    "                  {'Barcode':'0000132', 'Modell':'Asics 5', 'Geschlecht':'Mann', 'Grösse':39},\n",
    "                  {'Barcode':'0000133', 'Modell':'Asics 5', 'Geschlecht':'Mann', 'Grösse':39},\n",
    "                  {'Barcode':'0000134', 'Modell':'Nike AZ', 'Geschlecht':'Mann', 'Grösse':35},\n",
    "                  {'Barcode':'0000135', 'Modell':'Nike AZ', 'Geschlecht':'Mann', 'Grösse':35},\n",
    "                  {'Barcode':'0000136', 'Modell':'Asics 5', 'Geschlecht':'Mann', 'Grösse':36},\n",
    "                  {'Barcode':'0000137', 'Modell':'Nike AZ', 'Geschlecht':'Mann', 'Grösse':40},\n",
    "                  {'Barcode':'0000138', 'Modell':'Asics 5', 'Geschlecht':'Mann', 'Grösse':40},\n",
    "                  {'Barcode':'0000139', 'Modell':'Nike AZ', 'Geschlecht':'Frau', 'Grösse':40},\n",
    "                  {'Barcode':'0000140', 'Modell':'Asics 5', 'Geschlecht':'Frau', 'Grösse':40},\n",
    "                  {'Barcode':'0000141', 'Modell':'Nike AZ', 'Geschlecht':'Frau', 'Grösse':34},\n",
    "                  {'Barcode':'0000142', 'Modell':'Asics 5', 'Geschlecht':'Frau', 'Grösse':34},\n",
    "                  {'Barcode':'0000143', 'Modell':'Skech Z', 'Geschlecht':'Frau', 'Grösse':42},\n",
    "                  {'Barcode':'0000144', 'Modell':'Nike AZ', 'Geschlecht':'Frau', 'Grösse':43},\n",
    "                  {'Barcode':'0000145', 'Modell':'Nike AZ', 'Geschlecht':'Frau', 'Grösse':43},\n",
    "                  {'Barcode':'0000146', 'Modell':'Asics 5', 'Geschlecht':'Frau', 'Grösse':44},\n",
    "                  {'Barcode':'0000147', 'Modell':'Nike AZ', 'Geschlecht':'Frau', 'Grösse':38},\n",
    "                  {'Barcode':'0000148', 'Modell':'Nike AZ', 'Geschlecht':'Frau', 'Grösse':39},\n",
    "                  {'Barcode':'0000149', 'Modell':'Asics 5', 'Geschlecht':'Frau', 'Grösse':41},\n",
    "                  {'Barcode':'0000150', 'Modell':'Skech Z', 'Geschlecht':'Frau', 'Grösse':40},\n",
    "                  {'Barcode':'0000151', 'Modell':'Nike AZ', 'Geschlecht':'Frau', 'Grösse':40},\n",
    "                  {'Barcode':'1000124', 'Modell':'Nike AZ', 'Geschlecht':'Mann', 'Grösse':40},\n",
    "                  {'Barcode':'1000125', 'Modell':'Asics 5', 'Geschlecht':'Mann', 'Grösse':40},\n",
    "                  {'Barcode':'1000126', 'Modell':'Nike AZ', 'Geschlecht':'Mann', 'Grösse':42},\n",
    "                  {'Barcode':'1000127', 'Modell':'Nike AZ', 'Geschlecht':'Mann', 'Grösse':42},\n",
    "                  {'Barcode':'1000128', 'Modell':'Asics 5', 'Geschlecht':'Mann', 'Grösse':46},\n",
    "                  {'Barcode':'1000129', 'Modell':'Nike AZ', 'Geschlecht':'Mann', 'Grösse':46},\n",
    "                  {'Barcode':'1000130', 'Modell':'Skech Z', 'Geschlecht':'Mann', 'Grösse':43},\n",
    "                  {'Barcode':'1000131', 'Modell':'Nike AZ', 'Geschlecht':'Mann', 'Grösse':45},\n",
    "                  {'Barcode':'1000132', 'Modell':'Asics 5', 'Geschlecht':'Mann', 'Grösse':39},\n",
    "                  {'Barcode':'1000133', 'Modell':'Asics 5', 'Geschlecht':'Mann', 'Grösse':39},\n",
    "                  {'Barcode':'1000134', 'Modell':'Nike AZ', 'Geschlecht':'Mann', 'Grösse':35},\n",
    "                  {'Barcode':'1000135', 'Modell':'Nike AZ', 'Geschlecht':'Mann', 'Grösse':35},\n",
    "                  {'Barcode':'1000136', 'Modell':'Asics 5', 'Geschlecht':'Mann', 'Grösse':36},\n",
    "                  {'Barcode':'1000137', 'Modell':'Nike AZ', 'Geschlecht':'Mann', 'Grösse':40},\n",
    "                  {'Barcode':'1000138', 'Modell':'Asics 5', 'Geschlecht':'Mann', 'Grösse':40},\n",
    "                  {'Barcode':'1000139', 'Modell':'Nike AZ', 'Geschlecht':'Frau', 'Grösse':40},\n",
    "                  {'Barcode':'1000140', 'Modell':'Asics 5', 'Geschlecht':'Frau', 'Grösse':40},\n",
    "                  {'Barcode':'1000141', 'Modell':'Nike AZ', 'Geschlecht':'Frau', 'Grösse':34},\n",
    "                  {'Barcode':'1000142', 'Modell':'Asics 5', 'Geschlecht':'Frau', 'Grösse':34},\n",
    "                  {'Barcode':'1000143', 'Modell':'Skech Z', 'Geschlecht':'Frau', 'Grösse':42},\n",
    "                  {'Barcode':'1000144', 'Modell':'Nike AZ', 'Geschlecht':'Frau', 'Grösse':43},\n",
    "                  {'Barcode':'1000145', 'Modell':'Nike AZ', 'Geschlecht':'Frau', 'Grösse':43},\n",
    "                  {'Barcode':'1000146', 'Modell':'Asics 5', 'Geschlecht':'Frau', 'Grösse':44},\n",
    "                  {'Barcode':'1000147', 'Modell':'Nike AZ', 'Geschlecht':'Frau', 'Grösse':38},\n",
    "                  {'Barcode':'1000148', 'Modell':'Nike AZ', 'Geschlecht':'Frau', 'Grösse':39},\n",
    "                  {'Barcode':'1000149', 'Modell':'Asics 5', 'Geschlecht':'Frau', 'Grösse':41},\n",
    "                  {'Barcode':'1000150', 'Modell':'Skech Z', 'Geschlecht':'Frau', 'Grösse':40},\n",
    "                  {'Barcode':'1000151', 'Modell':'Nike AZ', 'Geschlecht':'Frau', 'Grösse':40},\n",
    "                  {'Barcode':'1000152', 'Modell':'Asics 5', 'Geschlecht':'Frau', 'Grösse':40} ]\n",
    "\n",
    "\n",
    "    \n",
    "schuhe_a_des1 = []\n",
    "schuhe_a_des2 = []\n",
    "schuhe_a_des3 = []\n",
    "schuhe_a_des4 = []\n",
    "\n",
    "for Box in BoxInventar:\n",
    "    if Box['Geschlecht'] == 'Mann':\n",
    "        if Box['Grösse'] < 40:\n",
    "            schuhe_a_des1.append(Box['Barcode'])\n",
    "        elif Box['Grösse'] > 45:\n",
    "            schuhe_a_des2.append(Box['Barcode'])    \n",
    "    if Box['Geschlecht'] == 'Frau':\n",
    "        if Box['Grösse'] < 36:\n",
    "            schuhe_a_des3.append(Box['Barcode'])\n",
    "        elif Box['Grösse'] > 41:\n",
    "            schuhe_a_des4.append(Box['Barcode'])\n",
    "\n",
    "schuhe_a_des = schuhe_a_des1 + schuhe_a_des2 + schuhe_a_des3 + schuhe_a_des4\n",
    "print('Schuhe_a_desherber:' , schuhe_a_des) "
   ]
  },
  {
   "cell_type": "markdown",
   "metadata": {},
   "source": [
    "## Übung 5\n",
    "\n",
    "Ein Palindrom (von griechisch Παλίνδρομος palíndromos ‚rückwärts laufend‘) ist eine Zeichenkette, die von vorn und von hinten gelesen dasselbe ergibt. Quelle: [Wikipedia](https://de.wikipedia.org/wiki/Palindrom). Zum Beispiel \"ABBA\" ist ein Wortpalindrom.\n",
    "\n",
    "#### Frage 5.0\n",
    "\n",
    "Schreiben Sie eine Funktion \"istPalindorm(Wort)\" dass testet ob ein Wort ein Palindrom ist oder nicht. Diese Funktion soll 'True' zurrückgeben falls 'Wort' ein Palindorm ist, und 'False' zurrückgeben falls 'Wort' kein Palindorm ist.\n",
    "\n",
    "Solche Funktionen findet man leicht auf das Web. Zum Beisipel durch die Suche \"python palindrome function\" in meisten Suchmachinen. Sie können sich von existiernde solche Funktionen inspirieren, aber nur wenn Sie diese Funktionen selber verstehen.\n",
    "\n",
    "#### Frage 5.1\n",
    "Umwandeln sie der Text 'Text_klein' in eine Wörter Liste (benutzen sie die Methode `.split(' ')`). Benutzen sie eine `for` Schleife auf jedem Wort dieser Liste und testen sie ob es ein Palindrom ist. Drucken sie alle Wortpalindrome im notebook.\n"
   ]
  },
  {
   "cell_type": "markdown",
   "metadata": {},
   "source": [
    "## Antwort 5"
   ]
  },
  {
   "cell_type": "code",
   "execution_count": 44,
   "metadata": {},
   "outputs": [
    {
     "name": "stdout",
     "output_type": "stream",
     "text": [
      "True\n",
      "False\n"
     ]
    }
   ],
   "source": [
    "# Frage 5.0\n",
    "\n",
    "def istPalindrome(Wort):\n",
    "\n",
    "    letters = list(Wort)\n",
    "    istPalindrome = True\n",
    "\n",
    "    for letter in letters:\n",
    "        if letter == letters[-1]:\n",
    "            letters.pop(-1)\n",
    "        else:\n",
    "            istPalindrome = False\n",
    "            break\n",
    "\n",
    "    return istPalindrome\n",
    "\n",
    "print (istPalindrome('ABBA'))\n",
    "print (istPalindrome('Test'))"
   ]
  },
  {
   "cell_type": "code",
   "execution_count": 45,
   "metadata": {},
   "outputs": [
    {
     "name": "stdout",
     "output_type": "stream",
     "text": [
      "['otto', 'ist', 'ein', 'rentner', 'letztes', 'jahr', 'geworden.', 'früher', 'war', 'er', 'techniker', 'und', 'hat', 'eine', 'neue', 'art', 'rotor', 'entwickelt.', 'er', 'hat', 'drei', 'kinder:', 'bob', 'ist', 'ein', 'renner', 'und', 'ein', 'reiter.', 'hannah', 'hat', 'ein', 'rader', 'erfunden.', 'anna', 'liebt', 'die', 'abba', 'musik', 'gruppe.']\n"
     ]
    }
   ],
   "source": [
    "# Frage 5.1\n",
    "\n",
    "Text = \"\"\"Otto ist ein Rentner letztes Jahr geworden. Früher war er Techniker und hat eine neue Art Rotor entwickelt. Er hat drei kinder: Bob ist ein Renner und ein Reiter. Hannah hat ein Rader erfunden. Anna liebt die ABBA Musik Gruppe.\"\"\"\n",
    "\n",
    "Text_klein = Text.lower() # .lower() ersätz jede Grossebuchstabe mit die keine version dieser Buchstabe.\n",
    "w_imtext = Text_klein.split(' ')\n",
    "\n",
    "print (w_imtext)"
   ]
  },
  {
   "cell_type": "code",
   "execution_count": 85,
   "metadata": {},
   "outputs": [
    {
     "name": "stdout",
     "output_type": "stream",
     "text": [
      "otto\n",
      "rentner\n",
      "rotor\n",
      "bob\n",
      "renner\n",
      "hannah\n",
      "anna\n",
      "abba\n"
     ]
    }
   ],
   "source": [
    "istPalindrome = []\n",
    "\n",
    "for wort in w_imtext:\n",
    "    if list(wort) == list(reversed(wort)):\n",
    "        print(wort)"
   ]
  },
  {
   "cell_type": "code",
   "execution_count": null,
   "metadata": {},
   "outputs": [],
   "source": []
  }
 ],
 "metadata": {
  "kernelspec": {
   "display_name": "Python 3",
   "language": "python",
   "name": "python3"
  },
  "language_info": {
   "codemirror_mode": {
    "name": "ipython",
    "version": 3
   },
   "file_extension": ".py",
   "mimetype": "text/x-python",
   "name": "python",
   "nbconvert_exporter": "python",
   "pygments_lexer": "ipython3",
   "version": "3.6.6"
  },
  "widgets": {
   "state": {},
   "version": "1.0.0"
  }
 },
 "nbformat": 4,
 "nbformat_minor": 1
}
