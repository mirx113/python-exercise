{
 "cells": [
  {
   "cell_type": "markdown",
   "metadata": {},
   "source": [
    "<font color=\"red\"> <h1> Korrektur </h1> </font>\n",
    "\n",
    "* Übung 1 : $\\checkmark$\n",
    "* Übung 2 : $\\checkmark$\n",
    "\n",
    "**Bonus: 0.1**"
   ]
  },
  {
   "cell_type": "markdown",
   "metadata": {},
   "source": [
    "# Einführung in die Programmierung\n",
    "## Praktishe Arbeit 1\n",
    "\n",
    "\n",
    "## Übung 0\n",
    "\n",
    "Klicken Sie auf \"PA01\" oben (neben dem Jupyter Logo) und benennen Sie das Notebook in \"PA01_IhreVorname\".\n",
    "\n",
    "\n",
    "## Übung 1\n",
    "\n",
    "Bearbeiten Sie die Markdown Zelle \"Antwort 1\" unten. Stellen Sie sich vor und verwenden sie die folgende Elemente:\n",
    "- Ihre Name (an der Stelle \"Meine Name\"),\n",
    "- In ein Paar Zeilen, beschreiben Sie was Ihnen am meisten in der Programmierung interessiert,\n",
    "- In den Fall Sie haben bereits Programmierung Kurse gefolgt, bitte beschreiben Sie es in wenige Zeilen,\n",
    "- Interieren Sie ein bild im Text (lokal gespeichert oder auf dem Web, see Kurs 01),\n",
    "- Eine Punktliste mit 3-4 Gründe weshalb sie die HEG gewhält haben,\n",
    "- Eine nummerierte Liste der drei Aspekten der Programmierung, die Sie am meisten  interessieren,\n",
    "- Die Datentabelle [Das Lo-Sho](https://de.wikipedia.org/wiki/Magisches_Quadrat#Das_Lo-Shu)"
   ]
  },
  {
   "cell_type": "markdown",
   "metadata": {},
   "source": [
    "## Antwort 1\n",
    "\n",
    "### Mira Buzanszky\n",
    "Programmierung interresiert mich, weil ich es sehr Interresant finde, was hinter eine Webseite oder hiter ein Programm steckt, was man um sonst als Benutzer des Programmes oder Webseite nicht sieht.\n",
    "Bis jetzt habe ich keine Kurse um Programmierung gefolt.\n",
    "\n",
    "![Jupyter Notebooks Logo](http://www.beautytudine.com/wp-content/uploads/2017/07/SVIZZERA-sts0041132_1-680x400.jpg)\n",
    "\n",
    "Eine Punktliste mit 3-4 Gründe weshalb sie die HEG gewhält haben:\n",
    "\n",
    "- neben meine Erstausbildung (Musik) finde ich Bibliothekarausbildung eine gute Wahl meine Moeglichkeiten zu erweitern\n",
    "  - ich stelle mir vor, dass ich nachher ein gutes Profil habe in einem Musikbibliothek oder Notenarchiv zu arbeiten\n",
    "- ID an HEG bietet eine Ausbildung zweisprachig an, damit man zum Beispiel in einem zweisprachigen Kanton Vorteile hat\n",
    "- ich wollte mein Franzoesisch besser entwickeln, deshalb HEG und nicht HTW\n",
    "- HEG ist naher zu meine Zuhause als HTW\n",
    "\n",
    "Eine nummerierte Liste der drei Aspekten der Programmierung, die Sie am meisten interessieren:\n",
    "\n",
    "1. Webseite kriieren\n",
    "1. Basis des Programmieren verstehen\n",
    "1. Programmirsprache verstehen\n",
    "\n",
    "Die Datentabelle Das Lo-Sho:\n",
    "\n",
    "| 9 | 4 | 2 |\n",
    "|---|---|---|\n",
    "| 3 | 5 | 7 |\n",
    "| 8 | 1 | 6 |\n",
    "\n",
    "\n",
    "...\n",
    "\n",
    "\n",
    "## Übung 2\n",
    "\n",
    "Bearbeiten Sie die Code Zelle unten. Berechnen sie die folgende Werte.\n",
    "\n",
    "$ m = 10 $\n",
    "\n",
    "$ n = 7 $\n",
    "\n",
    "$ a = 2n - 1 $\n",
    "\n",
    "$ z = m + \\frac{n}{2} $\n",
    "\n",
    "$ b = \\frac{m+n}{2}$ (Beachten Sie den Vorrang zwichen + und /)\n",
    "\n",
    "$ c = a \\cdot b $\n",
    "\n",
    "$ d = b^n $\n",
    "\n",
    "Immer in die selbe Code Zelle, drucken sie die folgenden Ergebnisse in Notebook mit den folgende Befehle:\n",
    "\n",
    "    print(\"a ist \", a)\n",
    "    print(\"z ist \", z)\n",
    "    print(\"b ist \", b)\n",
    "    print(\"c ist \", c)\n",
    "    print(\"d ist \", d)\n",
    "\n",
    "\n",
    "\n",
    "Fügen sie noch die folgende Zeilen ein:\n",
    "\n",
    "    b = 3.1415\n",
    "    print(\"b ist jetzt \", b)\n",
    "\n",
    "Ausführen Sie diese Code Zelle (cliken Sie oben auf \"play\" oder benutzen Sie die Ctrl-Enter Kürzel)\n",
    "\n",
    "In eine **neue Markdown Zelle** unter beantworten Sie die folgende Fragen:\n",
    "1. Warum sind die Klammern nötig um *b* richtig zu rechnen?\n",
    "2. Was is mit der Variable *b* passiert als der Befehl `b = 3.1415` ausgefürt wurde?\n",
    "\n",
    "## Antwort 2"
   ]
  },
  {
   "cell_type": "code",
   "execution_count": 10,
   "metadata": {
    "scrolled": true
   },
   "outputs": [
    {
     "name": "stdout",
     "output_type": "stream",
     "text": [
      "b ist jetzt  3.1415\n",
      "a ist  13\n",
      "z ist  13.5\n",
      "b ist  3.1415\n",
      "c ist  110.5\n",
      "d ist  3205770.8828125\n"
     ]
    }
   ],
   "source": [
    "\n",
    "m = 10\n",
    "n = 7\n",
    "a = 2 * n - 1\n",
    "z = m + n / 2\n",
    "b = ( m + n ) / 2\n",
    "c = a * b\n",
    "d = b ** n\n",
    "\n",
    "b = 3.1415\n",
    "print(\"b ist jetzt \", b)\n",
    "\n",
    "print(\"a ist \", a)\n",
    "print(\"z ist \", z)\n",
    "print(\"b ist \", b)\n",
    "print(\"c ist \", c)\n",
    "print(\"d ist \", d)\n",
    "\n",
    "\n",
    "\n"
   ]
  },
  {
   "cell_type": "markdown",
   "metadata": {},
   "source": [
    "1. Weil das Programm rechnet mathematisch korrekt. Wenn kein Klammer gibt, wird zuerst Teilung gerechnet und danach Zusatz. In diesem Fall moechten wir zuerst Zusatz, dann ist Klammer noetig.\n",
    "2. b wurde neu benennt, ab jetzt hat also b eine andere Wert oder Bedeutung."
   ]
  },
  {
   "cell_type": "markdown",
   "metadata": {},
   "source": [
    "\n",
    "# Zum Schluss\n",
    "\n",
    "* Prüfen Sie nach dass ihres Notebook in \"PA01-IhreVorname\" unbennent ist."
   ]
  }
 ],
 "metadata": {
  "kernelspec": {
   "display_name": "Python 3",
   "language": "python",
   "name": "python3"
  },
  "language_info": {
   "codemirror_mode": {
    "name": "ipython",
    "version": 3
   },
   "file_extension": ".py",
   "mimetype": "text/x-python",
   "name": "python",
   "nbconvert_exporter": "python",
   "pygments_lexer": "ipython3",
   "version": "3.6.5"
  },
  "widgets": {
   "state": {},
   "version": "1.1.1"
  }
 },
 "nbformat": 4,
 "nbformat_minor": 1
}
