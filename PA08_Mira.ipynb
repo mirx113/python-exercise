{
 "cells": [
  {
   "cell_type": "markdown",
   "metadata": {},
   "source": [
    "<font color=\"red\"> <h1> Korrektur </h1> </font>\n",
    "\n",
    "* Übung 1 : $\\checkmark$\n",
    "* Übung 2 : $\\checkmark$\n",
    "\n",
    "**Bonus: 0.1**"
   ]
  },
  {
   "cell_type": "markdown",
   "metadata": {},
   "source": [
    "# Einführung in die Programmierung\n",
    "## Praktische Arbeit 8\n",
    "\n",
    "\n",
    "## Übung 0\n",
    "\n",
    "Klicken Sie auf \"PA-08\" oben (neben dem Jupyter Logo) und benennen Sie das Notebook in Form von \"PA-08 Ihre Name\"."
   ]
  },
  {
   "cell_type": "markdown",
   "metadata": {},
   "source": [
    "## Übung - : Datum Erkennung\n"
   ]
  },
  {
   "cell_type": "code",
   "execution_count": 1,
   "metadata": {},
   "outputs": [],
   "source": [
    "Text = \"\"\"\n",
    "\n",
    "The village of Watcham is not a village in the ordinary sense of the\n",
    "word, and yet it is a very pretty place, with a charming picturesque\n",
    "aspect, and of which people say, ‘What a pretty village!’ when they come\n",
    "upon its little landing-place on the riverside, or drive through its\n",
    "old-fashioned green, where some of the surrounding houses look as if\n",
    "they had come out of the seventeenth century, and some as if they had\n",
    "come out of the picture-books of Mr. Randolph Caldecott. It is a village\n",
    "of genteel little houses where a great many people live who have\n",
    "pretensions, but are poor: and some who have no pretensions and yet are\n",
    "poor all the same, and find the little, fresh, airy villa houses, with\n",
    "their small rooms and little gardens, a wonderful relief from London,\n",
    "even from the suburbs which are almost as rural as Watcham. Watcham,\n",
    "however, has various advantages over Hampstead or Wimbledon. It is close\n",
    "by the river, where a little quiet boating may be had without any fear\n",
    "of plunging into the mob of excursionists from London on one side, who\n",
    "make some portions of that river hideous, or the more elegant mob of\n",
    "society on the other, who do not add to its charm. But I need not linger\n",
    "on the attractions of this little place, with which the reader will, no\n",
    "doubt, if he (or she) has patience enough, become well acquainted in\n",
    "time, espetialle before 2021-12-13.\n",
    "\n",
    "The church in Watcham is a pretty church of very old foundation, low in\n",
    "stature and small in size, its porch covered with climbing roses, its\n",
    "modest little spire rising out of a mantle of ivy. It existed since \n",
    "1242-01-07 Inside I have always felt that there was a faint breath of \n",
    "generations past, perhaps not sodesirable as the traces of 2018/08/04\n",
    "them left on the walls--which mingled with the breath of the congregation, \n",
    "and the whiff of incense, which was now and then added to the composite \n",
    "atmosphere. For the Rector was ‘High,’ and, though he never laid himself \n",
    "open to troublesome proceedings, was watched with great attention by a \n",
    "little band of parishioners very anxious to be aggrieved, who kept an eye \n",
    "upon all he did, in the hope of some day catching him at an unguarded \n",
    "moment, in the act of lighting a candle or donning a vestment which \n",
    "exceeded the rubric. \n",
    "\n",
    "But Mr. Plowden was quite aware of this watch, and delighted in keeping his \n",
    "critics up to the highest mark of vigilance without ever giving them the occasion\n",
    "they desired since 1960. The Rectory was an old red-brick house showing rather high\n",
    "and narrow above its garden wall, and the Plowden family consisted,\n",
    "besides the Rector, of his wife, a son, and two daughters, to whose\n",
    "credit the floral decorations, for which the church was famous, were\n",
    "laid, undeservedly, by the strangers and visitors who frequented the\n",
    "place--though this was always indignantly contradicted by the 2019.05.30\n",
    "inhabitants, to whom it was well known that Miss Grey was the real\n",
    "artist who made the church so beautiful, and seemed to invent flowers\n",
    "when none were to be had by other persons, for the adornment of the\n",
    "little sanctuary. There were a few houses dotted about in their gardens\n",
    "in the neighbourhood of the church which contained the aristocracy of\n",
    "the place. These were generally very small, but, on the other hand, they\n",
    "were very refined, and contained old china and dainty pieces of old\n",
    "furniture such as might have made a dozen connoisseurs happy. They,\n",
    "however, were inhabited chiefly by ladies, though there was an old\n",
    "soldier and an old clergyman among them who stood out very strongly on\n",
    "the feminine background. The old clergyman, indeed, was no better than\n",
    "an old lady himself, and so considered in the place, which sent him on\n",
    "errands, and set but little store by his opinion; but the General! the\n",
    "General was very different. He had seen a great deal of service; and on\n",
    "occasions when he went at strictly-regulated intervals to a levée or\n",
    "other great function, with all his medals upon his ancient bosom, he was\n",
    "a sight to see. It was believed generally in the village that he had won\n",
    "several victories with his own right hand, and the sword which hung in\n",
    "his room was believed to have been bathed in blood on many terrible\n",
    "occasions; but, as was to be expected, the old soldier bore no terrible\n",
    "aspect, but was very amiable and gentle to his neighbours. The\n",
    "Archdeacon, of whom nobody stood in any awe, was on occasion ten times\n",
    "more severe.\n",
    "\"\"\""
   ]
  },
  {
   "cell_type": "markdown",
   "metadata": {},
   "source": [
    "### Frage 1.1\n",
    "\n",
    "Finden sie mit der Hilfe der re Modul alle Daten die der Muster YYYY-MM-DD erfüllen (wo YYYY, MM, DD nur aus Zahlen bestehen)."
   ]
  },
  {
   "cell_type": "markdown",
   "metadata": {},
   "source": [
    "### Antwort 1.1"
   ]
  },
  {
   "cell_type": "code",
   "execution_count": 4,
   "metadata": {},
   "outputs": [
    {
     "name": "stdout",
     "output_type": "stream",
     "text": [
      "2021-12-13 1242-01-07 "
     ]
    }
   ],
   "source": [
    "Text = \"\"\"\n",
    "\n",
    "The village of Watcham is not a village in the ordinary sense of the\n",
    "word, and yet it is a very pretty place, with a charming picturesque\n",
    "aspect, and of which people say, ‘What a pretty village!’ when they come\n",
    "upon its little landing-place on the riverside, or drive through its\n",
    "old-fashioned green, where some of the surrounding houses look as if\n",
    "they had come out of the seventeenth century, and some as if they had\n",
    "come out of the picture-books of Mr. Randolph Caldecott. It is a village\n",
    "of genteel little houses where a great many people live who have\n",
    "pretensions, but are poor: and some who have no pretensions and yet are\n",
    "poor all the same, and find the little, fresh, airy villa houses, with\n",
    "their small rooms and little gardens, a wonderful relief from London,\n",
    "even from the suburbs which are almost as rural as Watcham. Watcham,\n",
    "however, has various advantages over Hampstead or Wimbledon. It is close\n",
    "by the river, where a little quiet boating may be had without any fear\n",
    "of plunging into the mob of excursionists from London on one side, who\n",
    "make some portions of that river hideous, or the more elegant mob of\n",
    "society on the other, who do not add to its charm. But I need not linger\n",
    "on the attractions of this little place, with which the reader will, no\n",
    "doubt, if he (or she) has patience enough, become well acquainted in\n",
    "time, espetialle before 2021-12-13.\n",
    "\n",
    "The church in Watcham is a pretty church of very old foundation, low in\n",
    "stature and small in size, its porch covered with climbing roses, its\n",
    "modest little spire rising out of a mantle of ivy. It existed since \n",
    "1242-01-07 Inside I have always felt that there was a faint breath of \n",
    "generations past, perhaps not sodesirable as the traces of 2018/08/04\n",
    "them left on the walls--which mingled with the breath of the congregation, \n",
    "and the whiff of incense, which was now and then added to the composite \n",
    "atmosphere. For the Rector was ‘High,’ and, though he never laid himself \n",
    "open to troublesome proceedings, was watched with great attention by a \n",
    "little band of parishioners very anxious to be aggrieved, who kept an eye \n",
    "upon all he did, in the hope of some day catching him at an unguarded \n",
    "moment, in the act of lighting a candle or donning a vestment which \n",
    "exceeded the rubric. \n",
    "\n",
    "But Mr. Plowden was quite aware of this watch, and delighted in keeping his \n",
    "critics up to the highest mark of vigilance without ever giving them the occasion\n",
    "they desired since 1960. The Rectory was an old red-brick house showing rather high\n",
    "and narrow above its garden wall, and the Plowden family consisted,\n",
    "besides the Rector, of his wife, a son, and two daughters, to whose\n",
    "credit the floral decorations, for which the church was famous, were\n",
    "laid, undeservedly, by the strangers and visitors who frequented the\n",
    "place--though this was always indignantly contradicted by the 2019.05.30\n",
    "inhabitants, to whom it was well known that Miss Grey was the real\n",
    "artist who made the church so beautiful, and seemed to invent flowers\n",
    "when none were to be had by other persons, for the adornment of the\n",
    "little sanctuary. There were a few houses dotted about in their gardens\n",
    "in the neighbourhood of the church which contained the aristocracy of\n",
    "the place. These were generally very small, but, on the other hand, they\n",
    "were very refined, and contained old china and dainty pieces of old\n",
    "furniture such as might have made a dozen connoisseurs happy. They,\n",
    "however, were inhabited chiefly by ladies, though there was an old\n",
    "soldier and an old clergyman among them who stood out very strongly on\n",
    "the feminine background. The old clergyman, indeed, was no better than\n",
    "an old lady himself, and so considered in the place, which sent him on\n",
    "errands, and set but little store by his opinion; but the General! the\n",
    "General was very different. He had seen a great deal of service; and on\n",
    "occasions when he went at strictly-regulated intervals to a levée or\n",
    "other great function, with all his medals upon his ancient bosom, he was\n",
    "a sight to see. It was believed generally in the village that he had won\n",
    "several victories with his own right hand, and the sword which hung in\n",
    "his room was believed to have been bathed in blood on many terrible\n",
    "occasions; but, as was to be expected, the old soldier bore no terrible\n",
    "aspect, but was very amiable and gentle to his neighbours. The\n",
    "Archdeacon, of whom nobody stood in any awe, was on occasion ten times\n",
    "more severe.\n",
    "\"\"\"\n",
    "\n",
    "import re\n",
    "for x in re.findall('\\d{4}-\\d{2}-\\d{2}', Text):\n",
    "    print(x, end=' ')"
   ]
  },
  {
   "cell_type": "markdown",
   "metadata": {},
   "source": [
    "### Frage 1.2\n",
    "\n",
    "Finden sie alle Daten die die Mustern YYYY-MM-DD , YYYY/MM/DD ,  YYYY.MM.DD  erfüllen (wo YYYY, MM, DD nur aus Zahlen bestehen)."
   ]
  },
  {
   "cell_type": "code",
   "execution_count": 6,
   "metadata": {},
   "outputs": [
    {
     "name": "stdout",
     "output_type": "stream",
     "text": [
      "2021-12-13 1242-01-07 2018/08/04 2019.05.30 "
     ]
    }
   ],
   "source": [
    "import re\n",
    "for x in re.findall('\\d{4}[./-]\\d{2}[./-]\\d{2}', Text):\n",
    "    print(x, end=' ')"
   ]
  },
  {
   "cell_type": "markdown",
   "metadata": {},
   "source": [
    "### Frage 1.3\n",
    "\n",
    "Finden sie alle Daten die die Mustern YYYY-MM-DD , YYYY/MM/DD ,  YYYY.MM.DD  erfüllen (wo YYYY, MM, DD nur aus Zahlen bestehen). Danach:\n",
    "- konvertieren jeden gefundenen Muster zu datetime Object.\n",
    "- für jeden Konvertieten Datum, berechen sie vor oder in vie viele Tage dieses Datum war.\n",
    "\n",
    "\n",
    "Beispiel für das YYYY-MM-DD Muster in datetime Objekt konvertiern:\n",
    "\n",
    "    datetime_object = datetime.strptime('2018-12-11', '%Y-%m-%d')"
   ]
  },
  {
   "cell_type": "code",
   "execution_count": 14,
   "metadata": {},
   "outputs": [
    {
     "name": "stdout",
     "output_type": "stream",
     "text": [
      "-1094.5369960036226\n",
      "283769.46300400456\n",
      "132.46300400947916\n",
      "-166.5369959884375\n"
     ]
    }
   ],
   "source": [
    "import re\n",
    "\n",
    "from datetime import datetime\n",
    "for x in re.findall('\\d{4}[./-]\\d{2}[./-]\\d{2}', Text):\n",
    "    y = x.replace('.','-').replace('/','-')\n",
    "    #print( datetime.strptime(y, '%Y-%m-%d') )\n",
    "    print( (datetime.now() - datetime.strptime(y, '%Y-%m-%d')).total_seconds() / 3600 / 24 )\n",
    "    \n"
   ]
  },
  {
   "cell_type": "markdown",
   "metadata": {},
   "source": [
    "## Übung 2 - Namen und Orte Erkennung\n",
    "\n",
    "### 2.1 - Worte die mit einer grosse Buchstabe beginnen\n",
    "\n",
    "Finden sie mit re alle Worte in `Text` die mit eine grosse Buchstabe beginnen. "
   ]
  },
  {
   "cell_type": "code",
   "execution_count": 33,
   "metadata": {},
   "outputs": [
    {
     "name": "stdout",
     "output_type": "stream",
     "text": [
      "The Watcham Randolph It Hampstead It London But The Watcham It Inside For Rector But Plowden The Plowden Miss There These The General He It The "
     ]
    }
   ],
   "source": [
    "import re\n",
    "for x in re.findall('(?:\\s)([A-Z]\\w*)(?:\\s)', Text):\n",
    "    print(x, end=' ')"
   ]
  },
  {
   "cell_type": "markdown",
   "metadata": {},
   "source": [
    "### 2.2 - Worte am Anfang des Satzes.\n",
    "\n",
    "Finden sie mit re alle Worte in `Text` die mit eine grosse Buchstabe beginnen und die sich gleichzeig am angfang eines Satzes befinden. \n",
    "\n",
    "Tipp: Worte "
   ]
  },
  {
   "cell_type": "code",
   "execution_count": 25,
   "metadata": {},
   "outputs": [
    {
     "name": "stdout",
     "output_type": "stream",
     "text": [
      "Randolph It It But It For Plowden The There These The He It The "
     ]
    }
   ],
   "source": [
    "import re\n",
    "for x in re.findall('[.](?:\\s)([A-Z]\\w*)(?:\\s)', Text):\n",
    "    print(x, end=' ')"
   ]
  },
  {
   "cell_type": "markdown",
   "metadata": {},
   "source": [
    "### 2.3 - Benannte Entitäten\n",
    "\n",
    "Finden sie alle Worte die mit eine grosse Buchstabe beginnen und die sich **nicht** am angfang eines Satzes befinden. "
   ]
  },
  {
   "cell_type": "code",
   "execution_count": 29,
   "metadata": {},
   "outputs": [
    {
     "name": "stdout",
     "output_type": "stream",
     "text": [
      "The Watcham Hampstead London I The Watcham Inside Rector But Rectory Plowden Miss General "
     ]
    }
   ],
   "source": [
    "import re\n",
    "for x in re.findall('[^.](?:\\s)([A-Z]\\w*)(?:\\s)', Text):\n",
    "    print(x, end=' ')"
   ]
  },
  {
   "cell_type": "code",
   "execution_count": null,
   "metadata": {},
   "outputs": [],
   "source": []
  }
 ],
 "metadata": {
  "kernelspec": {
   "display_name": "Python 3",
   "language": "python",
   "name": "python3"
  },
  "language_info": {
   "codemirror_mode": {
    "name": "ipython",
    "version": 3
   },
   "file_extension": ".py",
   "mimetype": "text/x-python",
   "name": "python",
   "nbconvert_exporter": "python",
   "pygments_lexer": "ipython3",
   "version": "3.6.7"
  }
 },
 "nbformat": 4,
 "nbformat_minor": 1
}
