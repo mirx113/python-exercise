{
 "cells": [
  {
   "cell_type": "markdown",
   "metadata": {},
   "source": [
    "<font color=\"red\"> <h1> Korrektur </h1> </font>\n",
    "\n",
    "* Übung 1 : $\\checkmark$\n",
    "* Übung 2 : $\\checkmark$\n",
    "* Übung 3 : $\\checkmark$\n",
    "\n",
    "**Bonus: 0.1**"
   ]
  },
  {
   "cell_type": "markdown",
   "metadata": {},
   "source": [
    "# Einführung in die Programmierung\n",
    "## Praktische Arbeit 7\n",
    "\n",
    "\n",
    "## Übung 0\n",
    "\n",
    "Klicken Sie auf \"PA07\" oben (neben dem Jupyter Logo) und benennen Sie das Notebook in Form von \"PA07 Ihre Name\"."
   ]
  },
  {
   "cell_type": "markdown",
   "metadata": {},
   "source": [
    "## Übung 1 : Variablen und Worte Austausch\n",
    "\n",
    "### Frage 1.1\n",
    "\n",
    "Tauschen sie der Inhalt der Variablen A und B aus. Das heisst das Wert im A soll nach Ihren Skript in B gespeichert sein. Und umgekehrt. Das Skript soll für jeden inhalt von A und B angepasst sein.\n",
    "\n",
    "### Frage 1.2\n",
    "\n",
    "\n",
    "In dem Text unten, tauschen sie mit hilfe eines Python-Skriptes die Wörter \"Vater\" und \"Mutter\" aus. Das heiss das überall wo \"Vater\" steht soll nach der Ausführung des Srkiptes \"Mutter\" stehen. Und umgekehrt.\n"
   ]
  },
  {
   "cell_type": "markdown",
   "metadata": {},
   "source": [
    "### Antwort 1.1"
   ]
  },
  {
   "cell_type": "code",
   "execution_count": 2,
   "metadata": {},
   "outputs": [
    {
     "name": "stdout",
     "output_type": "stream",
     "text": [
      "a =  Text\n",
      "b =  [1, 2, 3, 4]\n"
     ]
    }
   ],
   "source": [
    "a = [1,2,3,4]\n",
    "b = 'Text'\n",
    "\n",
    "c = a\n",
    "a = b\n",
    "b = c\n",
    "print(\"a = \", a)\n",
    "print(\"b = \", b)"
   ]
  },
  {
   "cell_type": "markdown",
   "metadata": {},
   "source": [
    "### Antwort 1.2"
   ]
  },
  {
   "cell_type": "code",
   "execution_count": 13,
   "metadata": {},
   "outputs": [
    {
     "name": "stdout",
     "output_type": "stream",
     "text": [
      "Text =  Mutter Vater Mörder ist ein deutsches Fernseh-Drama aus dem Jahr 2011. \n",
      "          Als Tom Wesnik, der Mutter, und seine Frau Esther, due Vater, von einem \n",
      "          Fest nach Hause kommen, versperren ihnen Streifenwagen und Feuerwehr den Weg. \n",
      "          Sie parken vor einem Wohnhaus, aus dem drei Särge getragen werden [...]s\n",
      "          Zwischen Hoffnung und Verzweiflung fragt sich Tom, ob er als Mutter versagt \n",
      "          oder sich gar mitschuldig gemacht hat. Dabei entfremdet er sich immer mehr \n",
      "          von seinem Sohn. Unterdessen häufen sich die Hinweise, dass Lukas zu der Tat\n",
      "          angestiftet worden sein könnte. Originaltitel: Mutter Vater Mörder.\n"
     ]
    }
   ],
   "source": [
    "Text = \"\"\"Vater Mutter Mörder ist ein deutsches Fernseh-Drama aus dem Jahr 2011. \n",
    "          Als Tom Wesnik, der Vater, und seine Frau Esther, due Mutter, von einem \n",
    "          Fest nach Hause kommen, versperren ihnen Streifenwagen und Feuerwehr den Weg. \n",
    "          Sie parken vor einem Wohnhaus, aus dem drei Särge getragen werden [...]s\n",
    "          Zwischen Hoffnung und Verzweiflung fragt sich Tom, ob er als Vater versagt \n",
    "          oder sich gar mitschuldig gemacht hat. Dabei entfremdet er sich immer mehr \n",
    "          von seinem Sohn. Unterdessen häufen sich die Hinweise, dass Lukas zu der Tat\n",
    "          angestiftet worden sein könnte. Originaltitel: Vater Mutter Mörder.\"\"\"\n",
    "\n",
    "#Text.split(\" \")\n",
    "Text = Text.replace('Vater','Grossi')\n",
    "Text = Text.replace('Mutter','Vater')\n",
    "Text = Text.replace('Grossi','Mutter')\n",
    "\n",
    "print(\"Text = \", Text)"
   ]
  },
  {
   "cell_type": "markdown",
   "metadata": {},
   "source": [
    "# Übung 2\n",
    "\n",
    "### Frage 2.0\n",
    "\n",
    "Reden sie die Datei 'Ausleihe2015.csv' mit pandas.read_csv in der Variable **Ausleihe** . Diese Datei enthält eine Zeile pro Ausleihe. Daten sollen als Index Spalte verwendet (index_col) und sollen analysiert sein (parsed_dates). \n",
    "\n",
    "**Archtung**: Im gegensatz zum Kurs befinden sich Daten nicht in der Spalte 0.\n",
    "\n",
    "Drucken sie die ertes Zeilen der Variable **Ausleihe** mit der Metheode .head()\n",
    "\n",
    "\n",
    "### Frage 2.1\n",
    "\n",
    "Sie werden die Anzahl von Ausleihen monatlich berechenen. Benutzen sie die Methode .resample() um die Spalte Ausleihe['Benutzer'] monatlich zu zählen in der neue Variable **AusleiheMonaten**. Parameter für .resample():\n",
    "* *'M'* : für monatlich (anstatt 'A' das wurde im Kurs benutzt)\n",
    "* *how='count'* : damit pandas die Anzahl von Ausleihen berechent (im Kurs hatte man das Durchschnitt benutzt, d.h. 'mean')\n",
    "* *kind='period'*\n",
    "\n",
    "Drucken sie die Ergebis aus (d.h. die Variable **AusleiheMonaten**).\n",
    "\n",
    "### Frage 2.2\n",
    "\n",
    "Mit der Methode .plot(kind='bar') berechenen sie ein Diagramm aus **AusleiheMonaten**.\n"
   ]
  },
  {
   "cell_type": "markdown",
   "metadata": {},
   "source": [
    "# Antwort 2\n",
    "\n",
    "### Antwort 2.0"
   ]
  },
  {
   "cell_type": "code",
   "execution_count": 12,
   "metadata": {},
   "outputs": [
    {
     "name": "stdout",
     "output_type": "stream",
     "text": [
      "   Benutzer       Datum  Alter AlterKategorie\n",
      "0   1070222  2015-06-17     16           Jung\n",
      "1   4229696  2015-04-24     13           Jung\n",
      "2   1833890  2015-06-05     25           Jung\n",
      "3    358794  2015-07-04     10           Jung\n",
      "4   3533924  2015-07-31     60         Senior\n"
     ]
    }
   ],
   "source": [
    "%matplotlib inline\n",
    "import pandas\n",
    "\n",
    "al = pandas.read_csv('Ausleihe2015.csv')\n",
    "print(al.head())"
   ]
  },
  {
   "cell_type": "markdown",
   "metadata": {},
   "source": [
    "### Antwort 2.1"
   ]
  },
  {
   "cell_type": "code",
   "execution_count": 20,
   "metadata": {},
   "outputs": [
    {
     "name": "stdout",
     "output_type": "stream",
     "text": [
      "         Benutzer  Alter  AlterKategorie\n",
      "Datum                                   \n",
      "2015-01       224    224             224\n",
      "2015-02       263    263             263\n",
      "2015-03       355    355             355\n",
      "2015-04       464    464             464\n",
      "2015-05       558    558             558\n",
      "2015-06       593    593             593\n",
      "2015-07       613    613             613\n",
      "2015-08       568    568             568\n",
      "2015-09       456    456             456\n",
      "2015-10       374    374             374\n",
      "2015-11       280    280             280\n",
      "2015-12       239    239             239\n",
      "2016-01        13     13              13\n"
     ]
    }
   ],
   "source": [
    "al = pandas.read_csv('Ausleihe2015.csv', index_col=1, parse_dates=True)\n",
    "\n",
    "AusleiheMonaten = al.resample('M', kind='period').count()\n",
    "\n",
    "print(AusleiheMonaten)"
   ]
  },
  {
   "cell_type": "markdown",
   "metadata": {},
   "source": [
    "### Antwort 2.2"
   ]
  },
  {
   "cell_type": "code",
   "execution_count": 22,
   "metadata": {},
   "outputs": [
    {
     "data": {
      "text/plain": [
       "<matplotlib.axes._subplots.AxesSubplot at 0x7f4fb3de0828>"
      ]
     },
     "execution_count": 22,
     "metadata": {},
     "output_type": "execute_result"
    },
    {
     "data": {
      "image/png": "[encoded data removed]",
      "text/plain": [
       "<Figure size 432x288 with 1 Axes>"
      ]
     },
     "metadata": {},
     "output_type": "display_data"
    }
   ],
   "source": [
    "AusleiheMonaten.plot(kind='bar') "
   ]
  },
  {
   "cell_type": "code",
   "execution_count": null,
   "metadata": {},
   "outputs": [],
   "source": []
  }
 ],
 "metadata": {
  "kernelspec": {
   "display_name": "Python 3",
   "language": "python",
   "name": "python3"
  },
  "language_info": {
   "codemirror_mode": {
    "name": "ipython",
    "version": 3
   },
   "file_extension": ".py",
   "mimetype": "text/x-python",
   "name": "python",
   "nbconvert_exporter": "python",
   "pygments_lexer": "ipython3",
   "version": "3.6.7"
  },
  "widgets": {
   "state": {},
   "version": "1.0.0"
  }
 },
 "nbformat": 4,
 "nbformat_minor": 1
}
