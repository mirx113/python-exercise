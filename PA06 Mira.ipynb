{
 "cells": [
  {
   "cell_type": "markdown",
   "metadata": {},
   "source": [
    "<font color=\"red\"> <h1> Korrektur </h1> </font>\n",
    "\n",
    "* Übung 1 : $\\checkmark$\n",
    "* Übung 2 : $\\checkmark$\n",
    "* Übung 3 : $\\checkmark$\n",
    "* Übung 4 : $\\checkmark$\n",
    "* Übung 5 : $\\checkmark$\n",
    "* Übung 6 : $\\checkmark$\n",
    "\n",
    "\n",
    "**Bonus: 0.2** (doppelten Bonus für diese serie da sie Lang war)"
   ]
  },
  {
   "cell_type": "markdown",
   "metadata": {},
   "source": [
    "# Einführung in die Programmierung\n",
    "## Praktische Arbeit 6\n",
    "\n",
    "\n",
    "## Übung 0\n",
    "\n",
    "Klicken Sie auf \"PA06\" oben (neben dem Jupyter Logo) und benennen Sie das Notebook in Form von \"PA06 Ihre Name\"."
   ]
  },
  {
   "cell_type": "markdown",
   "metadata": {},
   "source": [
    "## Übung 1 : Modulo und Schleifen\n",
    "\n",
    "Das Modulo berechnet den Rest der Division einer ganze Zahl geteilt durch einer andere ganze Zahl. In Python wird es mit dem Operator `%` gerechent.\n",
    "\n",
    "Beispiele:\n",
    "\n",
    "* 17 % 3 = 2, da $17=5\\cdot 3+2$ (3 passt fünfmal in 17 und es bleiben 2 übrig – der Rest ist also 2)\n",
    "* 2 % 3 = 2, da $2=0\\cdot 3+2$ \n",
    "* 3 % 3 = 0, da $ 3=1\\cdot 3+0$\n",
    "\n",
    "In alle Fälle:\n",
    "* n % 2 = 0 , das heisst dass n is ein Vielfaches von 2\n",
    "* n % 3 = 0 , das heisst dass n is ein Vielfaches von 3\n",
    "* ...\n",
    "* n % m = 0 , das heisst dass n is ein Vielfaches von m\n",
    "\n",
    "### Frage 1.1\n",
    "Scheiben Sie eine Schleife das druckt welche Zahlen zwichen 1 und 50 sind ein Vielfaches von 2, 3 oder 5 (und Kombinationen von 2, 3, und 5 inklusiv). Die Ergebnis soll die folgende Form haben:\n",
    "\n",
    "    2 ist ein Vilfaches von 2\n",
    "    3 ist ein Vilfaches von 3\n",
    "    5 ist ein Vilfaches von 5\n",
    "    6 ist ein Vilfaches von 2\n",
    "    6 ist ein Vilfaches von 3\n",
    "    ...\n",
    "    15 ist ein Vilfaches von 3\n",
    "    15 ist ein Vilfaches von 5\n",
    "    ...\n",
    "    \n",
    "### Frage 1.2\n",
    "Scheiben Sie eine Schleife das druckt welche Zahlen zwichen 1 und 50 sind gleichzeiting ein Vielfaches von 2, 3 und 5. Die Ergebnis soll die folgende Form haben:\n",
    "\n",
    "    30 ist ein Vilfaches von 30\n",
    "    ...\n",
    "    \n",
    "### Frage 1.3\n",
    "Scheiben Sie eine Schleife das druckt welche Zahlen zwichen 1 und 50 sind ein Vielfaches von 2, 3 oder 5 aber Kombinationen von 2, 3, und 5 **NICHT** inklusiv. Das heisst, dass Zahlen die geleichzeitig Vilfaches von 2 und 3, oder geleichzeiting Vilfaches von 2 und 5, oder geleichzeiting Vilfaches von 3 und 5, oder geleichzeiting Vilfaches von 2, 3 und 5 sollen **NICHT** in der Ergebniss sein. \n"
   ]
  },
  {
   "cell_type": "markdown",
   "metadata": {},
   "source": [
    "### Antwort 1.1"
   ]
  },
  {
   "cell_type": "code",
   "execution_count": 1,
   "metadata": {},
   "outputs": [
    {
     "name": "stdout",
     "output_type": "stream",
     "text": [
      "2 ist ein Vielfaches von 2 .\n",
      "3 ist ein Vielfaches von 3 .\n",
      "4 ist ein Vielfaches von 2 .\n",
      "5 ist ein Vielfaches von 5 .\n",
      "6 ist ein Vielfaches von 2 .\n",
      "6 ist ein Vielfaches von 3 .\n",
      "8 ist ein Vielfaches von 2 .\n",
      "9 ist ein Vielfaches von 3 .\n",
      "10 ist ein Vielfaches von 2 .\n",
      "10 ist ein Vielfaches von 5 .\n",
      "12 ist ein Vielfaches von 2 .\n",
      "12 ist ein Vielfaches von 3 .\n",
      "14 ist ein Vielfaches von 2 .\n",
      "15 ist ein Vielfaches von 3 .\n",
      "15 ist ein Vielfaches von 5 .\n",
      "16 ist ein Vielfaches von 2 .\n",
      "18 ist ein Vielfaches von 2 .\n",
      "18 ist ein Vielfaches von 3 .\n",
      "20 ist ein Vielfaches von 2 .\n",
      "20 ist ein Vielfaches von 5 .\n",
      "21 ist ein Vielfaches von 3 .\n",
      "22 ist ein Vielfaches von 2 .\n",
      "24 ist ein Vielfaches von 2 .\n",
      "24 ist ein Vielfaches von 3 .\n",
      "25 ist ein Vielfaches von 5 .\n",
      "26 ist ein Vielfaches von 2 .\n",
      "27 ist ein Vielfaches von 3 .\n",
      "28 ist ein Vielfaches von 2 .\n",
      "30 ist ein Vielfaches von 2 .\n",
      "30 ist ein Vielfaches von 3 .\n",
      "30 ist ein Vielfaches von 5 .\n",
      "32 ist ein Vielfaches von 2 .\n",
      "33 ist ein Vielfaches von 3 .\n",
      "34 ist ein Vielfaches von 2 .\n",
      "35 ist ein Vielfaches von 5 .\n",
      "36 ist ein Vielfaches von 2 .\n",
      "36 ist ein Vielfaches von 3 .\n",
      "38 ist ein Vielfaches von 2 .\n",
      "39 ist ein Vielfaches von 3 .\n",
      "40 ist ein Vielfaches von 2 .\n",
      "40 ist ein Vielfaches von 5 .\n",
      "42 ist ein Vielfaches von 2 .\n",
      "42 ist ein Vielfaches von 3 .\n",
      "44 ist ein Vielfaches von 2 .\n",
      "45 ist ein Vielfaches von 3 .\n",
      "45 ist ein Vielfaches von 5 .\n",
      "46 ist ein Vielfaches von 2 .\n",
      "48 ist ein Vielfaches von 2 .\n",
      "48 ist ein Vielfaches von 3 .\n",
      "50 ist ein Vielfaches von 2 .\n",
      "50 ist ein Vielfaches von 5 .\n"
     ]
    }
   ],
   "source": [
    "for n in range(1,51):\n",
    "    if n % 2 == 0 :\n",
    "        print(n,\"ist ein Vielfaches von\",2, \".\")\n",
    "\n",
    "    if n % 3 == 0 :\n",
    "        print(n,\"ist ein Vielfaches von\",3, \".\")\n",
    "\n",
    "    if n % 5 == 0 :\n",
    "        print(n,\"ist ein Vielfaches von\",5, \".\")"
   ]
  },
  {
   "cell_type": "markdown",
   "metadata": {},
   "source": [
    "### Antwort 1.2"
   ]
  },
  {
   "cell_type": "code",
   "execution_count": 2,
   "metadata": {},
   "outputs": [
    {
     "name": "stdout",
     "output_type": "stream",
     "text": [
      "1 ist ein Vielfaches von 1 .\n",
      "2 ist ein Vielfaches von 2 .\n",
      "3 ist ein Vielfaches von 3 .\n",
      "4 ist ein Vielfaches von 4 .\n",
      "5 ist ein Vielfaches von 5 .\n",
      "6 ist ein Vielfaches von 6 .\n",
      "7 ist ein Vielfaches von 7 .\n",
      "8 ist ein Vielfaches von 8 .\n",
      "9 ist ein Vielfaches von 9 .\n",
      "10 ist ein Vielfaches von 10 .\n",
      "11 ist ein Vielfaches von 11 .\n",
      "12 ist ein Vielfaches von 12 .\n",
      "13 ist ein Vielfaches von 13 .\n",
      "14 ist ein Vielfaches von 14 .\n",
      "15 ist ein Vielfaches von 15 .\n",
      "16 ist ein Vielfaches von 16 .\n",
      "17 ist ein Vielfaches von 17 .\n",
      "18 ist ein Vielfaches von 18 .\n",
      "19 ist ein Vielfaches von 19 .\n",
      "20 ist ein Vielfaches von 20 .\n",
      "21 ist ein Vielfaches von 21 .\n",
      "22 ist ein Vielfaches von 22 .\n",
      "23 ist ein Vielfaches von 23 .\n",
      "24 ist ein Vielfaches von 24 .\n",
      "25 ist ein Vielfaches von 25 .\n",
      "26 ist ein Vielfaches von 26 .\n",
      "27 ist ein Vielfaches von 27 .\n",
      "28 ist ein Vielfaches von 28 .\n",
      "29 ist ein Vielfaches von 29 .\n",
      "30 ist ein Vielfaches von 30 .\n",
      "31 ist ein Vielfaches von 31 .\n",
      "32 ist ein Vielfaches von 32 .\n",
      "33 ist ein Vielfaches von 33 .\n",
      "34 ist ein Vielfaches von 34 .\n",
      "35 ist ein Vielfaches von 35 .\n",
      "36 ist ein Vielfaches von 36 .\n",
      "37 ist ein Vielfaches von 37 .\n",
      "38 ist ein Vielfaches von 38 .\n",
      "39 ist ein Vielfaches von 39 .\n",
      "40 ist ein Vielfaches von 40 .\n",
      "41 ist ein Vielfaches von 41 .\n",
      "42 ist ein Vielfaches von 42 .\n",
      "43 ist ein Vielfaches von 43 .\n",
      "44 ist ein Vielfaches von 44 .\n",
      "45 ist ein Vielfaches von 45 .\n",
      "46 ist ein Vielfaches von 46 .\n",
      "47 ist ein Vielfaches von 47 .\n",
      "48 ist ein Vielfaches von 48 .\n",
      "49 ist ein Vielfaches von 49 .\n",
      "50 ist ein Vielfaches von 50 .\n"
     ]
    }
   ],
   "source": [
    "for n in range(1,51):\n",
    "     if n % n == 0 :\n",
    "        print(n,\"ist ein Vielfaches von\",n, \".\")"
   ]
  },
  {
   "cell_type": "markdown",
   "metadata": {},
   "source": [
    "### Antwort 1.3\n"
   ]
  },
  {
   "cell_type": "code",
   "execution_count": 3,
   "metadata": {},
   "outputs": [
    {
     "name": "stdout",
     "output_type": "stream",
     "text": [
      "2 ist ein Vielfaches von 2 .\n",
      "3 ist ein Vielfaches von 3 .\n",
      "4 ist ein Vielfaches von 2 .\n",
      "5 ist ein Vielfaches von 5 .\n",
      "8 ist ein Vielfaches von 2 .\n",
      "9 ist ein Vielfaches von 3 .\n",
      "14 ist ein Vielfaches von 2 .\n",
      "16 ist ein Vielfaches von 2 .\n",
      "21 ist ein Vielfaches von 3 .\n",
      "22 ist ein Vielfaches von 2 .\n",
      "25 ist ein Vielfaches von 5 .\n",
      "26 ist ein Vielfaches von 2 .\n",
      "27 ist ein Vielfaches von 3 .\n",
      "28 ist ein Vielfaches von 2 .\n",
      "32 ist ein Vielfaches von 2 .\n",
      "33 ist ein Vielfaches von 3 .\n",
      "34 ist ein Vielfaches von 2 .\n",
      "35 ist ein Vielfaches von 5 .\n",
      "38 ist ein Vielfaches von 2 .\n",
      "39 ist ein Vielfaches von 3 .\n",
      "44 ist ein Vielfaches von 2 .\n",
      "46 ist ein Vielfaches von 2 .\n"
     ]
    }
   ],
   "source": [
    "for n in range(1,51):\n",
    "    if n % 2 == 0 and not (n % 3 == 0 or n % 5 == 0):\n",
    "        print(n,\"ist ein Vielfaches von\",2, \".\")\n",
    "    \n",
    "    elif n % 3 == 0 and not (n % 2 == 0 or n % 5 == 0):\n",
    "        print(n,\"ist ein Vielfaches von\",3, \".\")\n",
    "    \n",
    "    elif n % 5 == 0 and not (n % 2 == 0 or n % 3 == 0):\n",
    "        print(n, \"ist ein Vielfaches von\",5, \".\")"
   ]
  },
  {
   "cell_type": "markdown",
   "metadata": {},
   "source": [
    "## Übung 2 : Schleifen\n",
    "\n",
    "### Übung 2.1\n",
    "\n",
    "Mit Hilfe einer Schleife und die Funktion range() , drucken Sie 15 Mal den Satz: \"Diese Zeile wiederholt!\"\n",
    "\n",
    "### Übung 2.2\n",
    "\n",
    "Wie Übung 2.1, aber mit dem folgenen Zusatz:\n",
    "\n",
    "    Diese Zeile wiederholt! Iteration 1\n",
    "    Diese Zeile wiederholt! Iteration 2\n",
    "    Diese Zeile wiederholt! Iteration 3\n",
    "    ...\n",
    "    Diese Zeile wiederholt! Iteration 15\n",
    "\n",
    "## Antwort 2\n",
    "\n",
    "### Antwort 2.0"
   ]
  },
  {
   "cell_type": "code",
   "execution_count": 4,
   "metadata": {},
   "outputs": [
    {
     "name": "stdout",
     "output_type": "stream",
     "text": [
      "Diese Zeile wiederholt !\n",
      "Diese Zeile wiederholt !\n",
      "Diese Zeile wiederholt !\n",
      "Diese Zeile wiederholt !\n",
      "Diese Zeile wiederholt !\n",
      "Diese Zeile wiederholt !\n",
      "Diese Zeile wiederholt !\n",
      "Diese Zeile wiederholt !\n",
      "Diese Zeile wiederholt !\n",
      "Diese Zeile wiederholt !\n",
      "Diese Zeile wiederholt !\n",
      "Diese Zeile wiederholt !\n",
      "Diese Zeile wiederholt !\n",
      "Diese Zeile wiederholt !\n",
      "Diese Zeile wiederholt !\n"
     ]
    }
   ],
   "source": [
    "for n in range(1,16):\n",
    "    print (\"Diese Zeile wiederholt\",\"!\")"
   ]
  },
  {
   "cell_type": "markdown",
   "metadata": {
    "collapsed": true
   },
   "source": [
    "### Antwort 2.1"
   ]
  },
  {
   "cell_type": "code",
   "execution_count": 5,
   "metadata": {},
   "outputs": [
    {
     "name": "stdout",
     "output_type": "stream",
     "text": [
      "Diese Zeile wiederholt ! Interation 1\n",
      "Diese Zeile wiederholt ! Interation 2\n",
      "Diese Zeile wiederholt ! Interation 3\n",
      "Diese Zeile wiederholt ! Interation 4\n",
      "Diese Zeile wiederholt ! Interation 5\n",
      "Diese Zeile wiederholt ! Interation 6\n",
      "Diese Zeile wiederholt ! Interation 7\n",
      "Diese Zeile wiederholt ! Interation 8\n",
      "Diese Zeile wiederholt ! Interation 9\n",
      "Diese Zeile wiederholt ! Interation 10\n",
      "Diese Zeile wiederholt ! Interation 11\n",
      "Diese Zeile wiederholt ! Interation 12\n",
      "Diese Zeile wiederholt ! Interation 13\n",
      "Diese Zeile wiederholt ! Interation 14\n",
      "Diese Zeile wiederholt ! Interation 15\n"
     ]
    }
   ],
   "source": [
    "for n in range(1,16):\n",
    "    print (\"Diese Zeile wiederholt\",\"!\", \"Interation\", n)"
   ]
  },
  {
   "cell_type": "markdown",
   "metadata": {},
   "source": [
    "## Übung 3 : Schleifen / Vokale und Konsonanten Anzahl\n",
    "\n",
    "Berechnen Sie vie viele (1) Vokale, (2) Konsonanten und (3) andere Zeichen es gibt in dem Text unten. ** Diese 3 ergebnisse sollen Sie am Ende Ihre Antwort im Notebook drucken. **\n",
    "\n",
    "Um zu testen ob einen Zeichen eine Vokale ist können sie z.B. den Operator **`in`** anwenden:  "
   ]
  },
  {
   "cell_type": "code",
   "execution_count": 6,
   "metadata": {},
   "outputs": [
    {
     "data": {
      "text/plain": [
       "True"
      ]
     },
     "execution_count": 6,
     "metadata": {},
     "output_type": "execute_result"
    }
   ],
   "source": [
    "Vokale = 'aäeioöuüy'\n",
    "\n",
    "'i' in Vokale"
   ]
  },
  {
   "cell_type": "markdown",
   "metadata": {},
   "source": [
    "Achtung:  Damit großen Buchstaben richtig erkannt werden, müssen sie sie in kleine Buchstaben umgewandeln. Dass kann man mit der Methode .lower() machen. Beisiel:"
   ]
  },
  {
   "cell_type": "code",
   "execution_count": 7,
   "metadata": {},
   "outputs": [
    {
     "data": {
      "text/plain": [
       "True"
      ]
     },
     "execution_count": 7,
     "metadata": {},
     "output_type": "execute_result"
    }
   ],
   "source": [
    "'I'.lower() in Vokale"
   ]
  },
  {
   "cell_type": "markdown",
   "metadata": {},
   "source": [
    "## Antwort 3\n"
   ]
  },
  {
   "cell_type": "code",
   "execution_count": 8,
   "metadata": {},
   "outputs": [
    {
     "name": "stdout",
     "output_type": "stream",
     "text": [
      "VokaleAnzahl = 323\n",
      "KonsonantenAnzahl = 528\n",
      "AndereZeichenAnzahl = 262\n"
     ]
    }
   ],
   "source": [
    "Text = \"\"\"Texte können mithilfe einer Schrift dargestellt werden, deren Zeichen Phoneme, \n",
    "          Silben oder Wörter bzw. Begriffe codieren. Verschiedene Kulturen verwenden hierzu \n",
    "          unterschiedliche Alphabete. Durch die Einführung der Schrift wurde eine Möglichkeit \n",
    "          geschaffen, Texte, wie zum Beispiel Geschichtsschreibung, Erzählungen und Sagen,\n",
    "          für die Nachwelt zu archivieren. Ein großer Teil des geschichtlichen Wissens stammt \n",
    "          aus schriftlichen Aufzeichnungen, die archiviert wurden oder zufällig erhalten blieben. \n",
    "          Texte aus Kulturen mit einer schriftlichen Überlieferungstradition unterscheiden \n",
    "          sich in ihrem Aufbau von Texten aus Kulturen, in denen die mündliche Überlieferung \n",
    "          eine größere Rolle spielt. In den Geisteswissenschaften werden Kulturen, von denen \n",
    "          keine schriftlichen Dokumente überliefert sind, der Vor- und Frühgeschichte zugerechnet. \n",
    "          Somit wird eine zwar indirekte, aber dennoch sehr bedeutsame Definition des Gegenstandes \n",
    "          der Geschichtswissenschaft durch die Überlieferung von Texten gegeben.\"\"\"\n",
    "# Text Quelle: https://de.wikipedia.org/wiki/Text\n",
    "\n",
    "Vokale = 'aäeioöuüy'\n",
    "Konsonanten = 'bcdfghjklmnpqrstvwxzß'\n",
    "\n",
    "VokaleAnzahl = 0\n",
    "KonsonantenAnzahl = 0\n",
    "AndereZeichenAnzahl = 0\n",
    "\n",
    "\n",
    "for Zeichen in Text.lower():\n",
    "    if Zeichen in Vokale:\n",
    "        VokaleAnzahl = VokaleAnzahl + 1\n",
    "    \n",
    "    elif Zeichen in Konsonanten:\n",
    "        KonsonantenAnzahl = KonsonantenAnzahl + 1\n",
    "\n",
    "    elif Zeichen not in (Vokale or Konsonanten):\n",
    "        AndereZeichenAnzahl = AndereZeichenAnzahl + 1\n",
    "\n",
    "print(\"VokaleAnzahl\", \"=\", VokaleAnzahl)\n",
    "print(\"KonsonantenAnzahl\", \"=\", KonsonantenAnzahl)        \n",
    "print(\"AndereZeichenAnzahl\", \"=\", AndereZeichenAnzahl)"
   ]
  },
  {
   "cell_type": "markdown",
   "metadata": {},
   "source": [
    "## Übung 4 : Funktion / Fakultät\n",
    "\n",
    "\"Die Fakultät ist in der Mathematik eine Funktion, die einer natürlichen Zahl das Produkt aller natürlichen Zahlen (ohne Null) kleiner und gleich dieser Zahl zuordnet.\" Quelle: [Wikipeida](https://de.wikipedia.org/wiki/Fakult%C3%A4t_(Mathematik).\n",
    "\n",
    "Biespiele:\n",
    "* Fakultaet(1) = 1\n",
    "* Fakultaet(2) = 1 `*` 2 = 2\n",
    "* Fakultaet(3) = 1 `*` 2 `*` 3 = 6\n",
    "* Fakultaet(4) = 1 `*` 2 `*` 3 `*` 4 = 24\n",
    "* usw.\n",
    "\n",
    "### Frage 4.0\n",
    "\n",
    "Defieniren sie die Funktion 'Fakultaet(n)'.\n",
    "\n",
    "### Frage 4.1\n",
    "\n",
    "Vieviel sind Fakultaet(9) ?\n",
    "\n"
   ]
  },
  {
   "cell_type": "markdown",
   "metadata": {},
   "source": [
    "## Antwort 4\n",
    "\n",
    "### Antwort 4.1"
   ]
  },
  {
   "cell_type": "code",
   "execution_count": 9,
   "metadata": {},
   "outputs": [],
   "source": [
    "def Fakultaet(n):\n",
    "  if type(n) != type(1):\n",
    "    print (\"Factorial is only defined for integers.\")\n",
    "    return -1\n",
    "  elif n < 0:\n",
    "    print (\"Factorial is only defined for positive integers.\")\n",
    "    return -1\n",
    "  elif n == 0:\n",
    "    return 1\n",
    "  else:\n",
    "    return n * Fakultaet(n-1)"
   ]
  },
  {
   "cell_type": "markdown",
   "metadata": {},
   "source": [
    "### Antwort 4.2"
   ]
  },
  {
   "cell_type": "code",
   "execution_count": 10,
   "metadata": {},
   "outputs": [
    {
     "name": "stdout",
     "output_type": "stream",
     "text": [
      "362880\n"
     ]
    }
   ],
   "source": [
    "print(Fakultaet(9))"
   ]
  },
  {
   "cell_type": "markdown",
   "metadata": {},
   "source": [
    "## Übung 5 : Schleifen und Abfragen\n",
    "\n",
    "Sie sind verantwortlich für die öffentliche genfer Bibliothek Benachrichtigung. Sie entscheiden Briefe zu senden um Ihre Benutzer über ein neues Service zu informieren: eine Geschichte für Kinder wird jeden Donnerstag um 19 Uhr von einem professionellen Geschichtenerzähler gelesen. Dazu haben sie ein ausgezeichneter Flyer vorbereitet.\n",
    "\n",
    "Die Post ist leider teuer und Sie können nicht ein Brief zu jedem Benutzer senden. Zur Optimierung Ihrer Finanzen, entscheiden Sie nur die Benutzer zu informieren, die wahrscheinlich am meisten interessiert sind: das heisst die Personen die mindestens ein Buch in dem Kinder Abteilung in den letzten 365 Tagen ausgeliehen haben.\n",
    "\n",
    "In der liste `L` unten fiden Sie ein Auszug der Buchausleihen den letzten zwei Jahren. In der Kinder Abteilung, die 'BuchSignatur' fängt systematisch mit 'K' an.\n",
    "\n",
    "Um zu testen ob ein Buch in den letzten 365 Tagen ausgeliehen wurde:\n",
    "\n",
    "    datetime.datetime.now() - Ausleihe['Rückgabedatum'] <= datetime.timedelta(days=365)\n",
    "\n",
    "Identifizieren sie alle Benutzernummern ('Benutzer') die ein Buch der Kinder Abteilung in deden letzten 365 zurrückgegeben haben. Die Ergebnisse müssen sie in der Liste 'BenutzerListe' schreiben, und diese Liste im Notebook drucken. **Achtung:** jede Benutzernummer soll höchsten ein Mal gelistet sein, da mann möchtet vermeiden mehr als ein Brief per Benutzer zu schicken."
   ]
  },
  {
   "cell_type": "markdown",
   "metadata": {},
   "source": [
    "## Antwort 5"
   ]
  },
  {
   "cell_type": "code",
   "execution_count": 23,
   "metadata": {},
   "outputs": [
    {
     "ename": "TypeError",
     "evalue": "list indices must be integers or slices, not str",
     "output_type": "error",
     "traceback": [
      "\u001b[0;31m---------------------------------------------------------------------------\u001b[0m",
      "\u001b[0;31mTypeError\u001b[0m                                 Traceback (most recent call last)",
      "\u001b[0;32m<ipython-input-23-9a54c4f67d25>\u001b[0m in \u001b[0;36m<module>\u001b[0;34m()\u001b[0m\n\u001b[1;32m     69\u001b[0m \u001b[0mRückgabedatum\u001b[0m \u001b[0;34m=\u001b[0m \u001b[0;34m[\u001b[0m\u001b[0;34m]\u001b[0m\u001b[0;34m\u001b[0m\u001b[0;34m\u001b[0m\u001b[0m\n\u001b[1;32m     70\u001b[0m \u001b[0;32mfor\u001b[0m \u001b[0mBuch\u001b[0m \u001b[0;32min\u001b[0m \u001b[0mL\u001b[0m\u001b[0;34m:\u001b[0m\u001b[0;34m\u001b[0m\u001b[0;34m\u001b[0m\u001b[0m\n\u001b[0;32m---> 71\u001b[0;31m     \u001b[0;32mif\u001b[0m \u001b[0mjetzt\u001b[0m \u001b[0;34m-\u001b[0m \u001b[0mRückgabedatum\u001b[0m\u001b[0;34m[\u001b[0m\u001b[0;34m'Rückgabedatum'\u001b[0m\u001b[0;34m]\u001b[0m \u001b[0;34m<\u001b[0m \u001b[0mdatetime\u001b[0m\u001b[0;34m.\u001b[0m\u001b[0mtimedelta\u001b[0m\u001b[0;34m(\u001b[0m\u001b[0mdays\u001b[0m\u001b[0;34m=\u001b[0m\u001b[0;36m365\u001b[0m\u001b[0;34m)\u001b[0m\u001b[0;34m:\u001b[0m\u001b[0;34m\u001b[0m\u001b[0;34m\u001b[0m\u001b[0m\n\u001b[0m\u001b[1;32m     72\u001b[0m         \u001b[0mRückgabedatum\u001b[0m\u001b[0;34m.\u001b[0m\u001b[0mappend\u001b[0m\u001b[0;34m(\u001b[0m\u001b[0mBuch\u001b[0m\u001b[0;34m[\u001b[0m\u001b[0;34m'Rückgabedatum'\u001b[0m\u001b[0;34m]\u001b[0m\u001b[0;34m)\u001b[0m\u001b[0;34m\u001b[0m\u001b[0;34m\u001b[0m\u001b[0m\n\u001b[1;32m     73\u001b[0m \u001b[0mprint\u001b[0m\u001b[0;34m(\u001b[0m\u001b[0mBenutzer\u001b[0m\u001b[0;34m)\u001b[0m\u001b[0;34m\u001b[0m\u001b[0;34m\u001b[0m\u001b[0m\n",
      "\u001b[0;31mTypeError\u001b[0m: list indices must be integers or slices, not str"
     ]
    }
   ],
   "source": [
    "import datetime\n",
    "\n",
    "L = [ {'BuchBarcode':'0035161416', 'BuchSignatur':'E 981.214', 'Benutzer':'0011154841', 'Rückgabedatum':datetime.datetime(2015,3,13) },\n",
    "      {'BuchBarcode':'0008255903', 'BuchSignatur':'E 467.778', 'Benutzer':'0069200476', 'Rückgabedatum':datetime.datetime(2016,5,18) },\n",
    "      {'BuchBarcode':'0050166558', 'BuchSignatur':'K 203.672', 'Benutzer':'0059538685', 'Rückgabedatum':datetime.datetime(2016,8,23) },\n",
    "      {'BuchBarcode':'0020477533', 'BuchSignatur':'F 691.707', 'Benutzer':'0029877197', 'Rückgabedatum':datetime.datetime(2015,4,27) },\n",
    "      {'BuchBarcode':'0010599273', 'BuchSignatur':'K 707.570', 'Benutzer':'0062092511', 'Rückgabedatum':datetime.datetime(2016,10,2) },\n",
    "      {'BuchBarcode':'0040329636', 'BuchSignatur':'K 986.164', 'Benutzer':'0055175429', 'Rückgabedatum':datetime.datetime(2016,9,13) },\n",
    "      {'BuchBarcode':'0085329574', 'BuchSignatur':'E 781.534', 'Benutzer':'0039959438', 'Rückgabedatum':datetime.datetime(2016,9,14) },\n",
    "      {'BuchBarcode':'0081410542', 'BuchSignatur':'E 356.920', 'Benutzer':'0034066155', 'Rückgabedatum':datetime.datetime(2015,4,13) },\n",
    "      {'BuchBarcode':'0054820483', 'BuchSignatur':'E 655.172', 'Benutzer':'0095649841', 'Rückgabedatum':datetime.datetime(2016,7,15) },\n",
    "      {'BuchBarcode':'0089269143', 'BuchSignatur':'F 479.763', 'Benutzer':'0022457282', 'Rückgabedatum':datetime.datetime(2016,3,23) },\n",
    "      {'BuchBarcode':'0051986212', 'BuchSignatur':'K 566.770', 'Benutzer':'0098436870', 'Rückgabedatum':datetime.datetime(2015,2,24) },\n",
    "      {'BuchBarcode':'0077444473', 'BuchSignatur':'F 112.867', 'Benutzer':'0057693972', 'Rückgabedatum':datetime.datetime(2015,7,10) },\n",
    "      {'BuchBarcode':'0056675386', 'BuchSignatur':'K 227.140', 'Benutzer':'0071453254', 'Rückgabedatum':datetime.datetime(2016,1,16) },\n",
    "      {'BuchBarcode':'0094695999', 'BuchSignatur':'K 144.993', 'Benutzer':'0039172109', 'Rückgabedatum':datetime.datetime(2016,5,3) },\n",
    "      {'BuchBarcode':'0042166900', 'BuchSignatur':'K 831.774', 'Benutzer':'0010657708', 'Rückgabedatum':datetime.datetime(2015,7,27) },\n",
    "      {'BuchBarcode':'0042534560', 'BuchSignatur':'E 138.491', 'Benutzer':'0095640854', 'Rückgabedatum':datetime.datetime(2016,2,24) },\n",
    "      {'BuchBarcode':'0007475865', 'BuchSignatur':'E 101.406', 'Benutzer':'0097144278', 'Rückgabedatum':datetime.datetime(2016,1,22) },\n",
    "      {'BuchBarcode':'0026037324', 'BuchSignatur':'F 336.257', 'Benutzer':'0087901840', 'Rückgabedatum':datetime.datetime(2015,2,26) },\n",
    "      {'BuchBarcode':'0005201678', 'BuchSignatur':'E 781.366', 'Benutzer':'0023131666', 'Rückgabedatum':datetime.datetime(2015,2,3) },\n",
    "      {'BuchBarcode':'0060988872', 'BuchSignatur':'F 235.878', 'Benutzer':'0009409425', 'Rückgabedatum':datetime.datetime(2015,1,18) },\n",
    "      {'BuchBarcode':'0008255903', 'BuchSignatur':'E 467.778', 'Benutzer':'0069200476', 'Rückgabedatum':datetime.datetime(2016,5,18) },     \n",
    "      {'BuchBarcode':'0041056452', 'BuchSignatur':'F 905.861', 'Benutzer':'0016951454', 'Rückgabedatum':datetime.datetime(2016,6,5) },\n",
    "      {'BuchBarcode':'0057793054', 'BuchSignatur':'K 976.435', 'Benutzer':'0087844772', 'Rückgabedatum':datetime.datetime(2015,9,18) },\n",
    "      {'BuchBarcode':'0059855355', 'BuchSignatur':'F 334.638', 'Benutzer':'0083829331', 'Rückgabedatum':datetime.datetime(2015,8,27) },\n",
    "      {'BuchBarcode':'0020547978', 'BuchSignatur':'E 195.775', 'Benutzer':'0090366854', 'Rückgabedatum':datetime.datetime(2015,5,7) },\n",
    "      {'BuchBarcode':'0050886837', 'BuchSignatur':'E 788.942', 'Benutzer':'0009691254', 'Rückgabedatum':datetime.datetime(2016,6,6) },\n",
    "      {'BuchBarcode':'0069907960', 'BuchSignatur':'K 962.320', 'Benutzer':'0068988020', 'Rückgabedatum':datetime.datetime(2016,7,15) },\n",
    "      {'BuchBarcode':'0011867529', 'BuchSignatur':'F 437.419', 'Benutzer':'0097955123', 'Rückgabedatum':datetime.datetime(2016,4,4) },\n",
    "      {'BuchBarcode':'0079018492', 'BuchSignatur':'F 221.641', 'Benutzer':'0083307476', 'Rückgabedatum':datetime.datetime(2016,9,11) },\n",
    "      {'BuchBarcode':'0008255903', 'BuchSignatur':'E 467.778', 'Benutzer':'0069200476', 'Rückgabedatum':datetime.datetime(2016,5,18) },\n",
    "      {'BuchBarcode':'0008255903', 'BuchSignatur':'E 467.778', 'Benutzer':'0069200476', 'Rückgabedatum':datetime.datetime(2016,5,18) },\n",
    "      {'BuchBarcode':'0079455726', 'BuchSignatur':'F 855.371', 'Benutzer':'0057579112', 'Rückgabedatum':datetime.datetime(2015,3,6) },\n",
    "      {'BuchBarcode':'0029274392', 'BuchSignatur':'E 192.554', 'Benutzer':'0001325330', 'Rückgabedatum':datetime.datetime(2016,6,13) },\n",
    "      {'BuchBarcode':'0039899744', 'BuchSignatur':'E 529.766', 'Benutzer':'0038528259', 'Rückgabedatum':datetime.datetime(2016,6,20) },\n",
    "      {'BuchBarcode':'0020244320', 'BuchSignatur':'K 609.546', 'Benutzer':'0088026100', 'Rückgabedatum':datetime.datetime(2015,4,26) },\n",
    "      {'BuchBarcode':'0045131139', 'BuchSignatur':'F 795.332', 'Benutzer':'0092404303', 'Rückgabedatum':datetime.datetime(2016,5,20) },\n",
    "      {'BuchBarcode':'0016035444', 'BuchSignatur':'F 599.265', 'Benutzer':'0029315982', 'Rückgabedatum':datetime.datetime(2016,6,21) },\n",
    "      {'BuchBarcode':'0065055823', 'BuchSignatur':'E 288.121', 'Benutzer':'0018043262', 'Rückgabedatum':datetime.datetime(2015,7,16) },\n",
    "      {'BuchBarcode':'0083896781', 'BuchSignatur':'F 564.553', 'Benutzer':'0045160888', 'Rückgabedatum':datetime.datetime(2016,8,11) },\n",
    "      {'BuchBarcode':'0034454464', 'BuchSignatur':'K 936.233', 'Benutzer':'0062345959', 'Rückgabedatum':datetime.datetime(2015,6,3) },\n",
    "      {'BuchBarcode':'0038159814', 'BuchSignatur':'E 604.307', 'Benutzer':'0093110239', 'Rückgabedatum':datetime.datetime(2016,3,18) },\n",
    "      {'BuchBarcode':'0058580726', 'BuchSignatur':'K 391.277', 'Benutzer':'0053189204', 'Rückgabedatum':datetime.datetime(2015,8,18) },\n",
    "      {'BuchBarcode':'0040927171', 'BuchSignatur':'K 332.778', 'Benutzer':'0037291168', 'Rückgabedatum':datetime.datetime(2015,8,21) },\n",
    "      {'BuchBarcode':'0054026618', 'BuchSignatur':'K 392.252', 'Benutzer':'0082869455', 'Rückgabedatum':datetime.datetime(2015,2,7) },\n",
    "      {'BuchBarcode':'0026099474', 'BuchSignatur':'E 709.346', 'Benutzer':'0030799346', 'Rückgabedatum':datetime.datetime(2016,8,21) },\n",
    "      {'BuchBarcode':'0007791011', 'BuchSignatur':'K 896.385', 'Benutzer':'0079886360', 'Rückgabedatum':datetime.datetime(2016,8,21) },\n",
    "      {'BuchBarcode':'0024217784', 'BuchSignatur':'E 865.335', 'Benutzer':'0024300129', 'Rückgabedatum':datetime.datetime(2016,9,7) },\n",
    "      {'BuchBarcode':'0000379805', 'BuchSignatur':'K 986.891', 'Benutzer':'0026659416', 'Rückgabedatum':datetime.datetime(2015,7,28) },\n",
    "      {'BuchBarcode':'0061752957', 'BuchSignatur':'K 791.359', 'Benutzer':'0063587480', 'Rückgabedatum':datetime.datetime(2016,3,17) },\n",
    "      {'BuchBarcode':'0091696087', 'BuchSignatur':'F 113.165', 'Benutzer':'0069971896', 'Rückgabedatum':datetime.datetime(2016,9,1) },\n",
    "      {'BuchBarcode':'0016215840', 'BuchSignatur':'E 649.695', 'Benutzer':'0046189138', 'Rückgabedatum':datetime.datetime(2016,3,21) },\n",
    "      {'BuchBarcode':'0097822505', 'BuchSignatur':'K 824.745', 'Benutzer':'0002630943', 'Rückgabedatum':datetime.datetime(2016,10,2) },\n",
    "      {'BuchBarcode':'0026016638', 'BuchSignatur':'F 615.419', 'Benutzer':'0006312028', 'Rückgabedatum':datetime.datetime(2016,5,2) } ]\n",
    "\n",
    "import datetime\n",
    "\n",
    "jetzt = datetime.date.today()\n",
    "\n",
    "Benutzer = []\n",
    "for Buch in L:\n",
    "    Benutzer.append( Buch['Benutzer'] )\n",
    "\n",
    "BuchSignatur = []\n",
    "for Buch in L:\n",
    "    BuchSignatur.append(Buch['BuchSignatur'])\n",
    "    \n",
    "Rückgabedatum = []\n",
    "for Buch in L:\n",
    "    if jetzt - Rückgabedatum['Rückgabedatum'] = datetime.timedelta(days=365):\n",
    "        Rückgabedatum.append(Buch['Rückgabedatum'])\n",
    "    elif jetzt - Rückgabedatum['Rückgabedatum'] < datetime.timedelta(days=365):\n",
    "        Rückgabedatum.append(Buch['Rückgabedatum'])\n",
    "\n",
    "print(Benutzer)\n"
   ]
  },
  {
   "cell_type": "markdown",
   "metadata": {},
   "source": [
    "## Frage 6\n",
    "\n",
    "* Lesen Sie die Datei 'Palindorm.txt' (von Cyberlearn runterladen), die einen Text enthält.\n",
    "* Teilen Sie diesen Text in Wörter ( benutzen sie die Methode .split(' ') )\n",
    "* Benutzen sie die Funktion istPalindrom (see PA-04) um die Palindrome in eine Liste (variable 'P').\n",
    "* Schreiben sie diese Liste in eine neue Datei 'PalindromeGefunden.txt' (**Achtung:** die Liste 'P' muss zuerst im Text umgevandelt sein, dass kann man mit dem Befehl `str(P)` erreichen)\n"
   ]
  },
  {
   "cell_type": "markdown",
   "metadata": {},
   "source": [
    "## Antwort 6"
   ]
  },
  {
   "cell_type": "code",
   "execution_count": 19,
   "metadata": {},
   "outputs": [
    {
     "ename": "FileNotFoundError",
     "evalue": "[Errno 2] No such file or directory: 'Palindrom.txt'",
     "output_type": "error",
     "traceback": [
      "\u001b[0;31m---------------------------------------------------------------------------\u001b[0m",
      "\u001b[0;31mFileNotFoundError\u001b[0m                         Traceback (most recent call last)",
      "\u001b[0;32m<ipython-input-19-094971414ec8>\u001b[0m in \u001b[0;36m<module>\u001b[0;34m()\u001b[0m\n\u001b[1;32m      1\u001b[0m \u001b[0;31m# Datei 'Palindrome.txt' lesen\u001b[0m\u001b[0;34m\u001b[0m\u001b[0;34m\u001b[0m\u001b[0;34m\u001b[0m\u001b[0m\n\u001b[0;32m----> 2\u001b[0;31m \u001b[0mDatei\u001b[0m \u001b[0;34m=\u001b[0m \u001b[0mopen\u001b[0m\u001b[0;34m(\u001b[0m\u001b[0;34m'Palindrom.txt'\u001b[0m\u001b[0;34m,\u001b[0m \u001b[0;34m'r'\u001b[0m\u001b[0;34m)\u001b[0m\u001b[0;34m\u001b[0m\u001b[0;34m\u001b[0m\u001b[0m\n\u001b[0m\u001b[1;32m      3\u001b[0m \u001b[0mText\u001b[0m \u001b[0;34m=\u001b[0m \u001b[0mDatei\u001b[0m\u001b[0;34m.\u001b[0m\u001b[0mread\u001b[0m\u001b[0;34m(\u001b[0m\u001b[0;34m)\u001b[0m\u001b[0;34m\u001b[0m\u001b[0;34m\u001b[0m\u001b[0m\n\u001b[1;32m      4\u001b[0m \u001b[0mDatei\u001b[0m\u001b[0;34m.\u001b[0m\u001b[0mclose\u001b[0m\u001b[0;34m(\u001b[0m\u001b[0;34m)\u001b[0m\u001b[0;34m\u001b[0m\u001b[0;34m\u001b[0m\u001b[0m\n\u001b[1;32m      5\u001b[0m \u001b[0;34m\u001b[0m\u001b[0m\n",
      "\u001b[0;31mFileNotFoundError\u001b[0m: [Errno 2] No such file or directory: 'Palindrom.txt'"
     ]
    }
   ],
   "source": [
    "# Datei 'Palindrome.txt' lesen\n",
    "Datei = open('Palindrom.txt', 'r')\n",
    "Text = Datei.read()\n",
    "Datei.close()\n",
    "\n",
    "# Palindrome finden und in der Variable 'P' listen\n",
    "w_imtext = Text.lower().split(\" \")\n",
    "P = []\n",
    "for wort in w_imtext:\n",
    "    if list(wort) == list(reversed(wort)):\n",
    "        print(wort)\n",
    "\n",
    "# Ergebinis in der Datei 'PalindromeGefunden.txt' schreibein\n",
    "PalindromGefunden.txt = str(P)\n",
    "    print(PalindromGefunden.txt)"
   ]
  },
  {
   "cell_type": "code",
   "execution_count": 29,
   "metadata": {},
   "outputs": [
    {
     "name": "stdout",
     "output_type": "stream",
     "text": [
      "otto\n",
      "rentner\n",
      "rotor\n",
      "bob\n",
      "renner\n",
      "hannah\n",
      "anna\n",
      "abba\n",
      "[]\n"
     ]
    }
   ],
   "source": [
    "# Datei 'Palindrome.txt' lesen\n",
    "Text = \"Otto ist ein Rentner letztes Jahr geworden. Frueher war er Techniker und hat eine neue Art Rotor entwickelt. Er hat drei kinder: Bob ist ein Renner und ein Reiter. Hannah hat ein Rader erfunden. Anna liebt die ABBA Musik Gruppe.\"\n",
    "\n",
    "# Palindrome finden und in der Variable 'P' listen\n",
    "w_imtext = Text.lower().split(\" \")\n",
    "P = []\n",
    "for wort in w_imtext:\n",
    "    if list(wort) == list(reversed(wort)):\n",
    "        print(wort)\n",
    "\n",
    "# Ergebinis in der Datei 'PalindromeGefunden.txt' schreibein\n",
    "print(str(P))"
   ]
  },
  {
   "cell_type": "code",
   "execution_count": null,
   "metadata": {},
   "outputs": [],
   "source": []
  }
 ],
 "metadata": {
  "kernelspec": {
   "display_name": "Python 3",
   "language": "python",
   "name": "python3"
  },
  "language_info": {
   "codemirror_mode": {
    "name": "ipython",
    "version": 3
   },
   "file_extension": ".py",
   "mimetype": "text/x-python",
   "name": "python",
   "nbconvert_exporter": "python",
   "pygments_lexer": "ipython3",
   "version": "3.6.7"
  },
  "widgets": {
   "state": {},
   "version": "1.0.0"
  }
 },
 "nbformat": 4,
 "nbformat_minor": 1
}
