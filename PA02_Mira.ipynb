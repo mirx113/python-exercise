{
 "cells": [
  {
   "cell_type": "markdown",
   "metadata": {},
   "source": [
    "<font color=\"red\"> <h1> Korrektur </h1> </font>\n",
    "\n",
    "* Übung 1 : $\\checkmark$\n",
    "* Übung 2 : $\\checkmark$\n",
    "* Übung 3 : $\\checkmark$\n",
    "* Übung 4 : $\\checkmark$\n",
    "\n",
    "**Bonus: 0.1**"
   ]
  },
  {
   "cell_type": "markdown",
   "metadata": {},
   "source": [
    "# Einführung in die Programmierung\n",
    "## Praktishe Arbeit 2\n",
    "\n",
    "\n",
    "## Übung 0\n",
    "\n",
    "Klicken Sie auf \"PA-02\" oben (neben dem Jupyter Logo) und benennen Sie das Notebook in Form von \"PA-02 Ihre Vorname\".\n",
    "\n",
    "\n",
    "## Übung 1 : Boolesche Werte\n",
    "\n",
    "In der Zelle \"Antwort 1\" unten, ergänzen Sie beide Wahrheitstafeln uberall wo `...` stehen.\n",
    "\n",
    "Notiz: \"Die Wahrheitstabelle zeigt für alle möglichen Zuordnungen von endlich vielen (häufig zwei) Wahrheitswerten zu den aussagenlogisch nicht weiter zerlegbaren Teilaussagen, aus denen die Gesamtaussage zusammengesetzt ist, welchen Wahrheitswert die Gesamtaussage unter der jeweiligen Zuordnung annimmt. Die Wahrheitstabelle wird genutzt, um Wahrheitswertefunktionen beziehungsweise boolesche Funktionen darzustellen oder zu definieren und um einfache aussagenlogische Nachweise zu führen\" (Wikipedia 2016).\n",
    "\n",
    "Zum Beispiel die erste Zelle (d.h. die ... oben links) der AND Taffel betrifft die Zeile \"True\" und die Spalte \"True\". Das heisst, diese erste Zelle stellt \"True and True\" dar. Und  kann man so rechnen:\n",
    "\n"
   ]
  },
  {
   "cell_type": "code",
   "execution_count": 1,
   "metadata": {},
   "outputs": [
    {
     "data": {
      "text/plain": [
       "True"
      ]
     },
     "execution_count": 1,
     "metadata": {},
     "output_type": "execute_result"
    }
   ],
   "source": [
    "True and True"
   ]
  },
  {
   "cell_type": "code",
   "execution_count": 2,
   "metadata": {},
   "outputs": [
    {
     "data": {
      "text/plain": [
       "False"
      ]
     },
     "execution_count": 2,
     "metadata": {},
     "output_type": "execute_result"
    }
   ],
   "source": [
    "True and False"
   ]
  },
  {
   "cell_type": "code",
   "execution_count": 3,
   "metadata": {},
   "outputs": [
    {
     "data": {
      "text/plain": [
       "False"
      ]
     },
     "execution_count": 3,
     "metadata": {},
     "output_type": "execute_result"
    }
   ],
   "source": [
    "False and True"
   ]
  },
  {
   "cell_type": "code",
   "execution_count": 4,
   "metadata": {},
   "outputs": [
    {
     "data": {
      "text/plain": [
       "False"
      ]
     },
     "execution_count": 4,
     "metadata": {},
     "output_type": "execute_result"
    }
   ],
   "source": [
    "False and False"
   ]
  },
  {
   "cell_type": "code",
   "execution_count": 5,
   "metadata": {},
   "outputs": [
    {
     "data": {
      "text/plain": [
       "True"
      ]
     },
     "execution_count": 5,
     "metadata": {},
     "output_type": "execute_result"
    }
   ],
   "source": [
    "True or True"
   ]
  },
  {
   "cell_type": "code",
   "execution_count": 6,
   "metadata": {},
   "outputs": [
    {
     "data": {
      "text/plain": [
       "True"
      ]
     },
     "execution_count": 6,
     "metadata": {},
     "output_type": "execute_result"
    }
   ],
   "source": [
    "True or False"
   ]
  },
  {
   "cell_type": "code",
   "execution_count": 7,
   "metadata": {},
   "outputs": [
    {
     "data": {
      "text/plain": [
       "True"
      ]
     },
     "execution_count": 7,
     "metadata": {},
     "output_type": "execute_result"
    }
   ],
   "source": [
    "False or True"
   ]
  },
  {
   "cell_type": "code",
   "execution_count": 8,
   "metadata": {},
   "outputs": [
    {
     "data": {
      "text/plain": [
       "False"
      ]
     },
     "execution_count": 8,
     "metadata": {},
     "output_type": "execute_result"
    }
   ],
   "source": [
    "False or False"
   ]
  },
  {
   "cell_type": "markdown",
   "metadata": {},
   "source": [
    "## Antwort 1\n",
    "\n",
    "### AND Taffel\n",
    "\n",
    "| **AND**   | True | False |\n",
    "|-----------|------|-------|\n",
    "| **True**  | True | False |\n",
    "| **False** | False| False |\n",
    "\n",
    "### OR Taffel\n",
    "\n",
    "| **OR**   | True | False |\n",
    "|-----------|------|-------|\n",
    "| **True**  | True | True  |\n",
    "| **False** | True | False |\n"
   ]
  },
  {
   "cell_type": "markdown",
   "metadata": {},
   "source": [
    "## Übung 2 : Text\n",
    "\n",
    "Übung 2.0 : Wie lang ist das String `ein_text` unten?\n",
    "\n",
    "Übung 2.1 : Was ist die Position des Anfangs des Wortes \"Hexe\" in `ein_text` unten? Verwenden sie das Kommando `find` um es festzustellen.\n",
    "\n",
    "Übung 2.2 : Welches Wort befindet sich zwichen Position 28 und Position 37 ? Benutzen Sie eine schnitte (slice) um es zu berechnene, d.h. das Kommando `ein_text[28:37]`\n",
    "\n",
    "Übung 2.3 : Was passiert wenn man den Befehl `Zeilen = ein_text.split('\\n')` ausführt? (Bemerkung: `'\\n'` is ein spezial Zeichen das neue Zeile bedeutet.). Was ist den Typ der neue Variable `Zeilen`(das kann man mit `type(Zeilen)` herausfinden)?"
   ]
  },
  {
   "cell_type": "code",
   "execution_count": 9,
   "metadata": {},
   "outputs": [],
   "source": [
    "ein_text = \"\"\"Eins zwei Polizei\n",
    "Drei vier Grenadier\n",
    "Fünf sechs alte Hexe\n",
    "Sieben acht gute Nacht\"\"\""
   ]
  },
  {
   "cell_type": "code",
   "execution_count": 10,
   "metadata": {},
   "outputs": [
    {
     "data": {
      "text/plain": [
       "81"
      ]
     },
     "execution_count": 10,
     "metadata": {},
     "output_type": "execute_result"
    }
   ],
   "source": [
    "## Antwort 2.0\n",
    "ein_text = \"\"\"Eins zwei Polizei\n",
    "Drei vier Grenadier\n",
    "Fünf sechs alte Hexe\n",
    "Sieben acht gute Nacht\"\"\"\n",
    "\n",
    "len (ein_text)\n",
    "\n"
   ]
  },
  {
   "cell_type": "code",
   "execution_count": 11,
   "metadata": {},
   "outputs": [
    {
     "data": {
      "text/plain": [
       "54"
      ]
     },
     "execution_count": 11,
     "metadata": {},
     "output_type": "execute_result"
    }
   ],
   "source": [
    "## Anwort 2.1\n",
    "ein_text.find(\"Hexe\")"
   ]
  },
  {
   "cell_type": "code",
   "execution_count": 12,
   "metadata": {},
   "outputs": [
    {
     "name": "stdout",
     "output_type": "stream",
     "text": [
      "Grenadier\n"
     ]
    }
   ],
   "source": [
    "## Anwort 2.2\n",
    "e = ein_text\n",
    "print (e[28:37])"
   ]
  },
  {
   "cell_type": "code",
   "execution_count": 13,
   "metadata": {},
   "outputs": [],
   "source": [
    "## Antwort 2.3\n",
    "Zeilen = ein_text.split('\\n')"
   ]
  },
  {
   "cell_type": "code",
   "execution_count": 14,
   "metadata": {},
   "outputs": [
    {
     "data": {
      "text/plain": [
       "list"
      ]
     },
     "execution_count": 14,
     "metadata": {},
     "output_type": "execute_result"
    }
   ],
   "source": [
    "type(Zeilen)"
   ]
  },
  {
   "cell_type": "markdown",
   "metadata": {},
   "source": [
    "## Übung 3 : Listen Schnitten\n",
    "\n",
    "In diesem Notebook, drucken Sie die folgenden die Elementen der Variable X\n",
    "\n",
    "    X = [0, 1, 2, 3, 4, 5, 6, 7, 8, 9, 10, 11, 12, 13, 14, 15, 16, 17, 18, 19, 20]\n",
    "    \n",
    "1. Das erste Element\n",
    "2. Das zweite Element\n",
    "3. Das letzte Element\n",
    "4. Das vorletzte Element\n",
    "5. Das dritte Element\n",
    "6. von ersten bis fünfte Element\n",
    "7. von fünfte bis zehte Element\n",
    "8. von zehnte bis vorletzte Element\n"
   ]
  },
  {
   "cell_type": "markdown",
   "metadata": {},
   "source": [
    "## Antwort 3"
   ]
  },
  {
   "cell_type": "code",
   "execution_count": 15,
   "metadata": {},
   "outputs": [
    {
     "data": {
      "text/plain": [
       "0"
      ]
     },
     "execution_count": 15,
     "metadata": {},
     "output_type": "execute_result"
    }
   ],
   "source": [
    "x = [0, 1, 2, 3, 4, 5, 6, 7, 8, 9, 10, 11, 12, 13, 14, 15, 16, 17, 18, 19, 20]\n",
    "\n",
    "# 1\n",
    "x[0]"
   ]
  },
  {
   "cell_type": "code",
   "execution_count": 16,
   "metadata": {
    "scrolled": false
   },
   "outputs": [
    {
     "data": {
      "text/plain": [
       "1"
      ]
     },
     "execution_count": 16,
     "metadata": {},
     "output_type": "execute_result"
    }
   ],
   "source": [
    "# 2\n",
    "x[1]"
   ]
  },
  {
   "cell_type": "code",
   "execution_count": 17,
   "metadata": {},
   "outputs": [
    {
     "data": {
      "text/plain": [
       "20"
      ]
     },
     "execution_count": 17,
     "metadata": {},
     "output_type": "execute_result"
    }
   ],
   "source": [
    "# 3\n",
    "x[-1]"
   ]
  },
  {
   "cell_type": "code",
   "execution_count": 18,
   "metadata": {},
   "outputs": [
    {
     "data": {
      "text/plain": [
       "19"
      ]
     },
     "execution_count": 18,
     "metadata": {},
     "output_type": "execute_result"
    }
   ],
   "source": [
    "# 4\n",
    "x[-2]"
   ]
  },
  {
   "cell_type": "code",
   "execution_count": 19,
   "metadata": {},
   "outputs": [
    {
     "data": {
      "text/plain": [
       "2"
      ]
     },
     "execution_count": 19,
     "metadata": {},
     "output_type": "execute_result"
    }
   ],
   "source": [
    "# 5\n",
    "x[2]"
   ]
  },
  {
   "cell_type": "code",
   "execution_count": 20,
   "metadata": {},
   "outputs": [
    {
     "data": {
      "text/plain": [
       "[0, 1, 2, 3, 4]"
      ]
     },
     "execution_count": 20,
     "metadata": {},
     "output_type": "execute_result"
    }
   ],
   "source": [
    "# 6\n",
    "x[0:5]"
   ]
  },
  {
   "cell_type": "code",
   "execution_count": 21,
   "metadata": {},
   "outputs": [
    {
     "data": {
      "text/plain": [
       "[4, 5, 6, 7, 8, 9]"
      ]
     },
     "execution_count": 21,
     "metadata": {},
     "output_type": "execute_result"
    }
   ],
   "source": [
    "# 7\n",
    "x[4:10]"
   ]
  },
  {
   "cell_type": "code",
   "execution_count": 22,
   "metadata": {},
   "outputs": [
    {
     "data": {
      "text/plain": [
       "[9, 10, 11, 12, 13, 14, 15, 16, 17, 18, 19]"
      ]
     },
     "execution_count": 22,
     "metadata": {},
     "output_type": "execute_result"
    }
   ],
   "source": [
    "# 8\n",
    "x[9:-1]"
   ]
  },
  {
   "cell_type": "markdown",
   "metadata": {},
   "source": [
    "## Übung 4 : Wörterbücher (Dictionaries)\n",
    "\n",
    "Ein Wörterbuch in der Zelle unten mit den folgenden Etietten (oder Keys) kreieren,\n",
    "\n",
    "* 'Name'\n",
    "* 'Vorname'\n",
    "* 'Strasse'\n",
    "* 'StrasseNummer'\n",
    "* 'PLZ'\n",
    "* 'Stadt'\n",
    "* 'Land'\n",
    "\n",
    "und mit eigene Adresse ergänzen.\n",
    "\n",
    "## Antwort 4"
   ]
  },
  {
   "cell_type": "code",
   "execution_count": 23,
   "metadata": {},
   "outputs": [
    {
     "name": "stdout",
     "output_type": "stream",
     "text": [
      "{'Name': 'Buzanszky', 'Vorname': 'Mira', 'Strasse': \"Chemin de l'Ondine\", 'StrasseNummer': '2', 'PLZ': '1663', 'Stadt': 'Gruyères', 'Land': 'Suisse'}\n"
     ]
    }
   ],
   "source": [
    "meine_adresse = { 'Name' : 'Buzanszky', \n",
    "                  'Vorname' :  'Mira',\n",
    "               'Strasse' : 'Chemin de l\\'Ondine',\n",
    "                'StrasseNummer' : '2',\n",
    "                'PLZ' : '1663',\n",
    "               'Stadt'  : 'Gruyères',\n",
    "                'Land' : 'Suisse'}\n",
    "print(meine_adresse)"
   ]
  },
  {
   "cell_type": "code",
   "execution_count": null,
   "metadata": {},
   "outputs": [],
   "source": []
  }
 ],
 "metadata": {
  "kernelspec": {
   "display_name": "Python 3",
   "language": "python",
   "name": "python3"
  },
  "language_info": {
   "codemirror_mode": {
    "name": "ipython",
    "version": 3
   },
   "file_extension": ".py",
   "mimetype": "text/x-python",
   "name": "python",
   "nbconvert_exporter": "python",
   "pygments_lexer": "ipython3",
   "version": "3.6.5"
  },
  "widgets": {
   "state": {},
   "version": "1.0.0"
  }
 },
 "nbformat": 4,
 "nbformat_minor": 1
}
